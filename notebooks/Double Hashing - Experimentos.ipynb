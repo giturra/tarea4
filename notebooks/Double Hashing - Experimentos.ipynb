{
 "cells": [
  {
   "cell_type": "code",
   "execution_count": 4,
   "metadata": {
    "ExecuteTime": {
     "end_time": "2020-07-15T01:50:44.717938Z",
     "start_time": "2020-07-15T01:50:44.295517Z"
    }
   },
   "outputs": [],
   "source": [
    "import sys; sys.path.append('../'); sys.path.append('../hashing')\n",
    "from hashing import DoubleHash\n",
    "\n",
    "from pathlib import Path\n",
    "import numpy as np\n",
    "import pandas as pd\n",
    "\n",
    "from tqdm.notebook import tqdm\n",
    "\n",
    "DATA_DIR = 'casos_lhash'\n",
    "\n",
    "np.random.seed(88)"
   ]
  },
  {
   "cell_type": "code",
   "execution_count": 5,
   "metadata": {
    "ExecuteTime": {
     "end_time": "2020-07-15T01:50:44.728727Z",
     "start_time": "2020-07-15T01:50:44.719882Z"
    }
   },
   "outputs": [
    {
     "data": {
      "text/plain": [
       "[PosixPath('casos_lhash/ordered_blocks_creciente.npy'),\n",
       " PosixPath('casos_lhash/ordered_blocks_intercalado.npy'),\n",
       " PosixPath('casos_lhash/ordered_blocks_intercalado_rand.npy'),\n",
       " PosixPath('casos_lhash/ordered_step_1.npy'),\n",
       " PosixPath('casos_lhash/ordered_step_1_oversize.npy'),\n",
       " PosixPath('casos_lhash/ordered_step_3.npy'),\n",
       " PosixPath('casos_lhash/ordered_step_3_oversize.npy'),\n",
       " PosixPath('casos_lhash/ordered_step_quarter.npy'),\n",
       " PosixPath('casos_lhash/ordered_step_quarter_oversize.npy'),\n",
       " PosixPath('casos_lhash/ordered_step_random.npy'),\n",
       " PosixPath('casos_lhash/ordered_step_random_oversize.npy'),\n",
       " PosixPath('casos_lhash/repeated_3_1.npy'),\n",
       " PosixPath('casos_lhash/repeated_3_1_oversize.npy'),\n",
       " PosixPath('casos_lhash/repeated_3_3.npy'),\n",
       " PosixPath('casos_lhash/repeated_3_3_oversize.npy'),\n",
       " PosixPath('casos_lhash/repeated_3_quarter.npy'),\n",
       " PosixPath('casos_lhash/repeated_3_quarter_oversize.npy'),\n",
       " PosixPath('casos_lhash/repeated_quarter_1.npy'),\n",
       " PosixPath('casos_lhash/repeated_quarter_1_oversize.npy'),\n",
       " PosixPath('casos_lhash/repeated_quarter_random.npy'),\n",
       " PosixPath('casos_lhash/repeated_quarter_random_oversize.npy')]"
      ]
     },
     "execution_count": 5,
     "metadata": {},
     "output_type": "execute_result"
    }
   ],
   "source": [
    "sorted(Path(DATA_DIR).iterdir())"
   ]
  },
  {
   "cell_type": "markdown",
   "metadata": {},
   "source": [
    "# Experimentos mejores y peores casos DoubleHash\n",
    "\n",
    "Sea $th$, el tamaño de tabla hash en cada instancia."
   ]
  },
  {
   "cell_type": "code",
   "execution_count": 6,
   "metadata": {
    "ExecuteTime": {
     "end_time": "2020-07-15T01:50:47.142639Z",
     "start_time": "2020-07-15T01:50:47.134639Z"
    }
   },
   "outputs": [],
   "source": [
    "size_max = int(1e4)\n",
    "sizes = [i for i in range(10, size_max, size_max//4)]\n",
    "\n",
    "d_hashes = [DoubleHash(size=s, update_size=True) for s in sizes]\n",
    "\n",
    "df = pd.DataFrame(columns=['hash', 'original_size', 'final_size', 'caso',\n",
    "                           'subcaso', 'caracteristica', 'oversize', 'tamano', 'tiempos', 'tiempo_total'])"
   ]
  },
  {
   "cell_type": "markdown",
   "metadata": {
    "ExecuteTime": {
     "end_time": "2020-07-13T17:17:35.627426Z",
     "start_time": "2020-07-13T17:17:35.624205Z"
    }
   },
   "source": [
    "## Secuencia de elementos ordenados\n",
    "\n",
    "Se crean las siguientes variaciones de secuencias:\n",
    "\n",
    "1. Secuencia ordenada creciente con paso de 1\n",
    "2. Secuencia ordenada creciente con paso de 3\n",
    "3. Secuencia ordenada creciente con paso de $\\frac{th}{4}$\n",
    "4. Secuencia ordenada creciente con paso de aleatorio entre 4 y $th$\n",
    "\n",
    "5. Un cuarto creciente, otro decreciente y bis (bloques aleatorios)\n",
    "6. 4 bloques crecientes independientes\n",
    "\n",
    "Ademas para cada una de estas, existen dos tamaño: el tamaño de la tabla y 3 veces el tamaño de la tabla."
   ]
  },
  {
   "cell_type": "code",
   "execution_count": 7,
   "metadata": {
    "ExecuteTime": {
     "end_time": "2020-07-15T01:50:48.697860Z",
     "start_time": "2020-07-15T01:50:48.647113Z"
    }
   },
   "outputs": [
    {
     "data": {
      "text/plain": [
       "([PosixPath('casos_lhash/ordered_step_quarter_oversize.npy'),\n",
       "  PosixPath('casos_lhash/ordered_step_3_oversize.npy'),\n",
       "  PosixPath('casos_lhash/ordered_step_3.npy'),\n",
       "  PosixPath('casos_lhash/ordered_step_1.npy'),\n",
       "  PosixPath('casos_lhash/ordered_step_quarter.npy'),\n",
       "  PosixPath('casos_lhash/ordered_step_1_oversize.npy'),\n",
       "  PosixPath('casos_lhash/ordered_step_random.npy'),\n",
       "  PosixPath('casos_lhash/ordered_step_random_oversize.npy')],\n",
       " [PosixPath('casos_lhash/ordered_blocks_intercalado.npy'),\n",
       "  PosixPath('casos_lhash/ordered_blocks_creciente.npy'),\n",
       "  PosixPath('casos_lhash/ordered_blocks_intercalado_rand.npy')])"
      ]
     },
     "execution_count": 7,
     "metadata": {},
     "output_type": "execute_result"
    }
   ],
   "source": [
    "casos_ordenados_steps = list(Path(DATA_DIR).glob('ordered_step*'))\n",
    "casos_ordenados_blocks = list(Path(DATA_DIR).glob('ordered_blocks*'))\n",
    "\n",
    "arr_casos_ordenados_steps = [\n",
    "    {caso.stem: np.load(caso, allow_pickle=True)} for caso in casos_ordenados_steps]\n",
    "\n",
    "arr_casos_ordenados_blocks = [\n",
    "    {caso.stem: np.load(caso, allow_pickle=True)} for caso in casos_ordenados_blocks]\n",
    "\n",
    "casos_ordenados_steps, casos_ordenados_blocks"
   ]
  },
  {
   "cell_type": "markdown",
   "metadata": {},
   "source": [
    "### Steps"
   ]
  },
  {
   "cell_type": "code",
   "execution_count": 10,
   "metadata": {
    "ExecuteTime": {
     "end_time": "2020-07-14T23:18:44.284893Z",
     "start_time": "2020-07-14T23:16:22.767032Z"
    },
    "collapsed": true,
    "jupyter": {
     "outputs_hidden": true
    }
   },
   "outputs": [
    {
     "data": {
      "application/vnd.jupyter.widget-view+json": {
       "model_id": "ad229ef9e22a4203ae447679b939809a",
       "version_major": 2,
       "version_minor": 0
      },
      "text/plain": [
       "HBox(children=(FloatProgress(value=0.0, max=8.0), HTML(value='')))"
      ]
     },
     "metadata": {},
     "output_type": "display_data"
    },
    {
     "data": {
      "application/vnd.jupyter.widget-view+json": {
       "model_id": "467b28bd8fcd4e6a9d74646356a709ca",
       "version_major": 2,
       "version_minor": 0
      },
      "text/plain": [
       "HBox(children=(FloatProgress(value=0.0, max=4.0), HTML(value='')))"
      ]
     },
     "metadata": {},
     "output_type": "display_data"
    },
    {
     "data": {
      "application/vnd.jupyter.widget-view+json": {
       "model_id": "c17ab82fa025459a87dac9f25ae193c7",
       "version_major": 2,
       "version_minor": 0
      },
      "text/plain": [
       "HBox(children=(FloatProgress(value=0.0, max=4.0), HTML(value='')))"
      ]
     },
     "metadata": {},
     "output_type": "display_data"
    },
    {
     "name": "stdout",
     "output_type": "stream",
     "text": [
      "\n"
     ]
    },
    {
     "data": {
      "application/vnd.jupyter.widget-view+json": {
       "model_id": "bebef87a655c4bf78ae219bb2102ecb7",
       "version_major": 2,
       "version_minor": 0
      },
      "text/plain": [
       "HBox(children=(FloatProgress(value=0.0, max=4.0), HTML(value='')))"
      ]
     },
     "metadata": {},
     "output_type": "display_data"
    },
    {
     "name": "stdout",
     "output_type": "stream",
     "text": [
      "\n"
     ]
    },
    {
     "data": {
      "application/vnd.jupyter.widget-view+json": {
       "model_id": "676e65dd5a7d4bc6aeb09653af96557e",
       "version_major": 2,
       "version_minor": 0
      },
      "text/plain": [
       "HBox(children=(FloatProgress(value=0.0, max=4.0), HTML(value='')))"
      ]
     },
     "metadata": {},
     "output_type": "display_data"
    },
    {
     "name": "stdout",
     "output_type": "stream",
     "text": [
      "\n"
     ]
    },
    {
     "data": {
      "application/vnd.jupyter.widget-view+json": {
       "model_id": "3347c9ed822742a384c30a83571f968c",
       "version_major": 2,
       "version_minor": 0
      },
      "text/plain": [
       "HBox(children=(FloatProgress(value=0.0, max=4.0), HTML(value='')))"
      ]
     },
     "metadata": {},
     "output_type": "display_data"
    },
    {
     "name": "stdout",
     "output_type": "stream",
     "text": [
      "\n",
      "\n"
     ]
    },
    {
     "data": {
      "application/vnd.jupyter.widget-view+json": {
       "model_id": "378cf5fd81ea4111a4259ff206d84e0f",
       "version_major": 2,
       "version_minor": 0
      },
      "text/plain": [
       "HBox(children=(FloatProgress(value=0.0, max=4.0), HTML(value='')))"
      ]
     },
     "metadata": {},
     "output_type": "display_data"
    },
    {
     "data": {
      "application/vnd.jupyter.widget-view+json": {
       "model_id": "d6c41770394a4802bc2976ac4ef72675",
       "version_major": 2,
       "version_minor": 0
      },
      "text/plain": [
       "HBox(children=(FloatProgress(value=0.0, max=4.0), HTML(value='')))"
      ]
     },
     "metadata": {},
     "output_type": "display_data"
    },
    {
     "name": "stdout",
     "output_type": "stream",
     "text": [
      "\n"
     ]
    },
    {
     "data": {
      "application/vnd.jupyter.widget-view+json": {
       "model_id": "0f4214003f664850affb0b7347bfd988",
       "version_major": 2,
       "version_minor": 0
      },
      "text/plain": [
       "HBox(children=(FloatProgress(value=0.0, max=4.0), HTML(value='')))"
      ]
     },
     "metadata": {},
     "output_type": "display_data"
    },
    {
     "name": "stdout",
     "output_type": "stream",
     "text": [
      "\n"
     ]
    },
    {
     "data": {
      "application/vnd.jupyter.widget-view+json": {
       "model_id": "d9a39abf38784d2c8939cb595a0085e5",
       "version_major": 2,
       "version_minor": 0
      },
      "text/plain": [
       "HBox(children=(FloatProgress(value=0.0, max=4.0), HTML(value='')))"
      ]
     },
     "metadata": {},
     "output_type": "display_data"
    },
    {
     "name": "stdout",
     "output_type": "stream",
     "text": [
      "\n"
     ]
    },
    {
     "data": {
      "application/vnd.jupyter.widget-view+json": {
       "model_id": "7d5d5dfa66584369b189092a43ed1b35",
       "version_major": 2,
       "version_minor": 0
      },
      "text/plain": [
       "HBox(children=(FloatProgress(value=0.0, max=4.0), HTML(value='')))"
      ]
     },
     "metadata": {},
     "output_type": "display_data"
    },
    {
     "name": "stdout",
     "output_type": "stream",
     "text": [
      "\n",
      "\n"
     ]
    },
    {
     "data": {
      "application/vnd.jupyter.widget-view+json": {
       "model_id": "a7505205afb04936a54c91636eba425f",
       "version_major": 2,
       "version_minor": 0
      },
      "text/plain": [
       "HBox(children=(FloatProgress(value=0.0, max=4.0), HTML(value='')))"
      ]
     },
     "metadata": {},
     "output_type": "display_data"
    },
    {
     "data": {
      "application/vnd.jupyter.widget-view+json": {
       "model_id": "fd2c090289fe4e5ea54cdc42f7690cb5",
       "version_major": 2,
       "version_minor": 0
      },
      "text/plain": [
       "HBox(children=(FloatProgress(value=0.0, max=4.0), HTML(value='')))"
      ]
     },
     "metadata": {},
     "output_type": "display_data"
    },
    {
     "name": "stdout",
     "output_type": "stream",
     "text": [
      "\n"
     ]
    },
    {
     "data": {
      "application/vnd.jupyter.widget-view+json": {
       "model_id": "33cd87787aa64a5a80eb24beffd32f4a",
       "version_major": 2,
       "version_minor": 0
      },
      "text/plain": [
       "HBox(children=(FloatProgress(value=0.0, max=4.0), HTML(value='')))"
      ]
     },
     "metadata": {},
     "output_type": "display_data"
    },
    {
     "name": "stdout",
     "output_type": "stream",
     "text": [
      "\n"
     ]
    },
    {
     "data": {
      "application/vnd.jupyter.widget-view+json": {
       "model_id": "e0b1786482784495bdb9f4074e279279",
       "version_major": 2,
       "version_minor": 0
      },
      "text/plain": [
       "HBox(children=(FloatProgress(value=0.0, max=4.0), HTML(value='')))"
      ]
     },
     "metadata": {},
     "output_type": "display_data"
    },
    {
     "name": "stdout",
     "output_type": "stream",
     "text": [
      "\n"
     ]
    },
    {
     "data": {
      "application/vnd.jupyter.widget-view+json": {
       "model_id": "97a5fe20b6964855bff08ae178752a08",
       "version_major": 2,
       "version_minor": 0
      },
      "text/plain": [
       "HBox(children=(FloatProgress(value=0.0, max=4.0), HTML(value='')))"
      ]
     },
     "metadata": {},
     "output_type": "display_data"
    },
    {
     "name": "stdout",
     "output_type": "stream",
     "text": [
      "\n",
      "\n"
     ]
    },
    {
     "data": {
      "application/vnd.jupyter.widget-view+json": {
       "model_id": "849fc812accd4d718304618646dd8a74",
       "version_major": 2,
       "version_minor": 0
      },
      "text/plain": [
       "HBox(children=(FloatProgress(value=0.0, max=4.0), HTML(value='')))"
      ]
     },
     "metadata": {},
     "output_type": "display_data"
    },
    {
     "data": {
      "application/vnd.jupyter.widget-view+json": {
       "model_id": "57e6d65e39b5420092d0926283228a33",
       "version_major": 2,
       "version_minor": 0
      },
      "text/plain": [
       "HBox(children=(FloatProgress(value=0.0, max=4.0), HTML(value='')))"
      ]
     },
     "metadata": {},
     "output_type": "display_data"
    },
    {
     "name": "stdout",
     "output_type": "stream",
     "text": [
      "\n"
     ]
    },
    {
     "data": {
      "application/vnd.jupyter.widget-view+json": {
       "model_id": "3932cb0deeea4f288825a21fc9b84fbe",
       "version_major": 2,
       "version_minor": 0
      },
      "text/plain": [
       "HBox(children=(FloatProgress(value=0.0, max=4.0), HTML(value='')))"
      ]
     },
     "metadata": {},
     "output_type": "display_data"
    },
    {
     "name": "stdout",
     "output_type": "stream",
     "text": [
      "\n"
     ]
    },
    {
     "data": {
      "application/vnd.jupyter.widget-view+json": {
       "model_id": "8f01fc5fb9b24b6bb7cced5e7c65cc3e",
       "version_major": 2,
       "version_minor": 0
      },
      "text/plain": [
       "HBox(children=(FloatProgress(value=0.0, max=4.0), HTML(value='')))"
      ]
     },
     "metadata": {},
     "output_type": "display_data"
    },
    {
     "name": "stdout",
     "output_type": "stream",
     "text": [
      "\n"
     ]
    },
    {
     "data": {
      "application/vnd.jupyter.widget-view+json": {
       "model_id": "70bf4636db9747eea2856eeb4cb89b0f",
       "version_major": 2,
       "version_minor": 0
      },
      "text/plain": [
       "HBox(children=(FloatProgress(value=0.0, max=4.0), HTML(value='')))"
      ]
     },
     "metadata": {},
     "output_type": "display_data"
    },
    {
     "name": "stdout",
     "output_type": "stream",
     "text": [
      "\n",
      "\n"
     ]
    },
    {
     "data": {
      "application/vnd.jupyter.widget-view+json": {
       "model_id": "472bfbc30ea44b388375a1d95d62c2f8",
       "version_major": 2,
       "version_minor": 0
      },
      "text/plain": [
       "HBox(children=(FloatProgress(value=0.0, max=4.0), HTML(value='')))"
      ]
     },
     "metadata": {},
     "output_type": "display_data"
    },
    {
     "data": {
      "application/vnd.jupyter.widget-view+json": {
       "model_id": "7f34a9f7c0cb404f97935214b7272842",
       "version_major": 2,
       "version_minor": 0
      },
      "text/plain": [
       "HBox(children=(FloatProgress(value=0.0, max=4.0), HTML(value='')))"
      ]
     },
     "metadata": {},
     "output_type": "display_data"
    },
    {
     "name": "stdout",
     "output_type": "stream",
     "text": [
      "\n"
     ]
    },
    {
     "data": {
      "application/vnd.jupyter.widget-view+json": {
       "model_id": "7e8451de1aec41119b9eea98644de89c",
       "version_major": 2,
       "version_minor": 0
      },
      "text/plain": [
       "HBox(children=(FloatProgress(value=0.0, max=4.0), HTML(value='')))"
      ]
     },
     "metadata": {},
     "output_type": "display_data"
    },
    {
     "name": "stdout",
     "output_type": "stream",
     "text": [
      "\n"
     ]
    },
    {
     "data": {
      "application/vnd.jupyter.widget-view+json": {
       "model_id": "b8a0f3c448d643d3bba67bd5c6586d84",
       "version_major": 2,
       "version_minor": 0
      },
      "text/plain": [
       "HBox(children=(FloatProgress(value=0.0, max=4.0), HTML(value='')))"
      ]
     },
     "metadata": {},
     "output_type": "display_data"
    },
    {
     "name": "stdout",
     "output_type": "stream",
     "text": [
      "\n"
     ]
    },
    {
     "data": {
      "application/vnd.jupyter.widget-view+json": {
       "model_id": "0a9adeda2a6445cbac774854b4309482",
       "version_major": 2,
       "version_minor": 0
      },
      "text/plain": [
       "HBox(children=(FloatProgress(value=0.0, max=4.0), HTML(value='')))"
      ]
     },
     "metadata": {},
     "output_type": "display_data"
    },
    {
     "name": "stdout",
     "output_type": "stream",
     "text": [
      "\n",
      "\n"
     ]
    },
    {
     "data": {
      "application/vnd.jupyter.widget-view+json": {
       "model_id": "c819b6f2cc014a7daf6fe0cd6892ed74",
       "version_major": 2,
       "version_minor": 0
      },
      "text/plain": [
       "HBox(children=(FloatProgress(value=0.0, max=4.0), HTML(value='')))"
      ]
     },
     "metadata": {},
     "output_type": "display_data"
    },
    {
     "data": {
      "application/vnd.jupyter.widget-view+json": {
       "model_id": "227cc39bf559462eb3907d83460df416",
       "version_major": 2,
       "version_minor": 0
      },
      "text/plain": [
       "HBox(children=(FloatProgress(value=0.0, max=4.0), HTML(value='')))"
      ]
     },
     "metadata": {},
     "output_type": "display_data"
    },
    {
     "name": "stdout",
     "output_type": "stream",
     "text": [
      "\n"
     ]
    },
    {
     "data": {
      "application/vnd.jupyter.widget-view+json": {
       "model_id": "c57632694cfd47df837578ce3de762e0",
       "version_major": 2,
       "version_minor": 0
      },
      "text/plain": [
       "HBox(children=(FloatProgress(value=0.0, max=4.0), HTML(value='')))"
      ]
     },
     "metadata": {},
     "output_type": "display_data"
    },
    {
     "name": "stdout",
     "output_type": "stream",
     "text": [
      "\n"
     ]
    },
    {
     "data": {
      "application/vnd.jupyter.widget-view+json": {
       "model_id": "ffa71463e5164769a261cfa8b8838701",
       "version_major": 2,
       "version_minor": 0
      },
      "text/plain": [
       "HBox(children=(FloatProgress(value=0.0, max=4.0), HTML(value='')))"
      ]
     },
     "metadata": {},
     "output_type": "display_data"
    },
    {
     "name": "stdout",
     "output_type": "stream",
     "text": [
      "\n"
     ]
    },
    {
     "data": {
      "application/vnd.jupyter.widget-view+json": {
       "model_id": "3f9b83e8fb6f4a76a5323c54a8a85fff",
       "version_major": 2,
       "version_minor": 0
      },
      "text/plain": [
       "HBox(children=(FloatProgress(value=0.0, max=4.0), HTML(value='')))"
      ]
     },
     "metadata": {},
     "output_type": "display_data"
    },
    {
     "name": "stdout",
     "output_type": "stream",
     "text": [
      "\n",
      "\n"
     ]
    },
    {
     "data": {
      "application/vnd.jupyter.widget-view+json": {
       "model_id": "2cb7cdfc4847412d80893ba1e44e5874",
       "version_major": 2,
       "version_minor": 0
      },
      "text/plain": [
       "HBox(children=(FloatProgress(value=0.0, max=4.0), HTML(value='')))"
      ]
     },
     "metadata": {},
     "output_type": "display_data"
    },
    {
     "data": {
      "application/vnd.jupyter.widget-view+json": {
       "model_id": "b7b78045ee044d19aa4cfe89cac6dcd8",
       "version_major": 2,
       "version_minor": 0
      },
      "text/plain": [
       "HBox(children=(FloatProgress(value=0.0, max=4.0), HTML(value='')))"
      ]
     },
     "metadata": {},
     "output_type": "display_data"
    },
    {
     "name": "stdout",
     "output_type": "stream",
     "text": [
      "\n"
     ]
    },
    {
     "data": {
      "application/vnd.jupyter.widget-view+json": {
       "model_id": "296870dd521a4373b158bbab8f2f5f2a",
       "version_major": 2,
       "version_minor": 0
      },
      "text/plain": [
       "HBox(children=(FloatProgress(value=0.0, max=4.0), HTML(value='')))"
      ]
     },
     "metadata": {},
     "output_type": "display_data"
    },
    {
     "name": "stdout",
     "output_type": "stream",
     "text": [
      "\n"
     ]
    },
    {
     "data": {
      "application/vnd.jupyter.widget-view+json": {
       "model_id": "f21656a8ed3a4f9bb770b8132cd3a660",
       "version_major": 2,
       "version_minor": 0
      },
      "text/plain": [
       "HBox(children=(FloatProgress(value=0.0, max=4.0), HTML(value='')))"
      ]
     },
     "metadata": {},
     "output_type": "display_data"
    },
    {
     "name": "stdout",
     "output_type": "stream",
     "text": [
      "\n"
     ]
    },
    {
     "data": {
      "application/vnd.jupyter.widget-view+json": {
       "model_id": "e3a383412fdc4931824116044259b95c",
       "version_major": 2,
       "version_minor": 0
      },
      "text/plain": [
       "HBox(children=(FloatProgress(value=0.0, max=4.0), HTML(value='')))"
      ]
     },
     "metadata": {},
     "output_type": "display_data"
    },
    {
     "name": "stdout",
     "output_type": "stream",
     "text": [
      "\n",
      "\n"
     ]
    },
    {
     "data": {
      "application/vnd.jupyter.widget-view+json": {
       "model_id": "0cf319a6bbcb42d48fc0df6d6552069d",
       "version_major": 2,
       "version_minor": 0
      },
      "text/plain": [
       "HBox(children=(FloatProgress(value=0.0, max=4.0), HTML(value='')))"
      ]
     },
     "metadata": {},
     "output_type": "display_data"
    },
    {
     "data": {
      "application/vnd.jupyter.widget-view+json": {
       "model_id": "b7f4e0c4c4bd481fb412031b30e4152b",
       "version_major": 2,
       "version_minor": 0
      },
      "text/plain": [
       "HBox(children=(FloatProgress(value=0.0, max=4.0), HTML(value='')))"
      ]
     },
     "metadata": {},
     "output_type": "display_data"
    },
    {
     "name": "stdout",
     "output_type": "stream",
     "text": [
      "\n"
     ]
    },
    {
     "data": {
      "application/vnd.jupyter.widget-view+json": {
       "model_id": "4ecace92c2b34edba0f0cea22b5bd445",
       "version_major": 2,
       "version_minor": 0
      },
      "text/plain": [
       "HBox(children=(FloatProgress(value=0.0, max=4.0), HTML(value='')))"
      ]
     },
     "metadata": {},
     "output_type": "display_data"
    },
    {
     "name": "stdout",
     "output_type": "stream",
     "text": [
      "\n"
     ]
    },
    {
     "data": {
      "application/vnd.jupyter.widget-view+json": {
       "model_id": "a1e5fcb37d8a498d98d359c9b9acf63a",
       "version_major": 2,
       "version_minor": 0
      },
      "text/plain": [
       "HBox(children=(FloatProgress(value=0.0, max=4.0), HTML(value='')))"
      ]
     },
     "metadata": {},
     "output_type": "display_data"
    },
    {
     "name": "stdout",
     "output_type": "stream",
     "text": [
      "\n"
     ]
    },
    {
     "data": {
      "application/vnd.jupyter.widget-view+json": {
       "model_id": "c80444922f154d3080a6cb566b0dfa28",
       "version_major": 2,
       "version_minor": 0
      },
      "text/plain": [
       "HBox(children=(FloatProgress(value=0.0, max=4.0), HTML(value='')))"
      ]
     },
     "metadata": {},
     "output_type": "display_data"
    },
    {
     "name": "stdout",
     "output_type": "stream",
     "text": [
      "\n",
      "\n",
      "\n"
     ]
    }
   ],
   "source": [
    "for caso in tqdm(arr_casos_ordenados_steps):\n",
    "    tipo_caso, arrs = list(caso.items())[0]\n",
    "    rows = []\n",
    "    \n",
    "    tipo_caso = tipo_caso.split('_')\n",
    "    \n",
    "    type_name = 'ordered'\n",
    "    \n",
    "    subtype = tipo_caso[1]\n",
    "    caracteristica = tipo_caso[2]\n",
    "    if tipo_caso[-1] == 'oversize':\n",
    "        oversize = 1\n",
    "    else:\n",
    "        oversize = 0\n",
    "    \n",
    "    for arr in tqdm(arrs):\n",
    "        d_hashes = [DoubleHash(size=s, update_size=True) for s in sizes]\n",
    "        for dh in tqdm(d_hashes):\n",
    "            dh.run_experiment(arr)\n",
    "            total_times, individual_times, original_size, final_size = dh.get_results()\n",
    "\n",
    "            row = {\n",
    "                'hash': 'double', \n",
    "                'original_size': original_size,\n",
    "                'final_size' : final_size,\n",
    "                'caso': type_name, \n",
    "                'subcaso' : subtype, \n",
    "                'caracteristica' : caracteristica, \n",
    "                'oversize' : oversize,\n",
    "                'tamano': len(arr), \n",
    "                'tiempos': individual_times, \n",
    "                'tiempo_total': total_times\n",
    "            }\n",
    "            \n",
    "        rows.append(row)\n",
    "    df = df.append(pd.DataFrame(rows), ignore_index=True)"
   ]
  },
  {
   "cell_type": "code",
   "execution_count": 6,
   "metadata": {
    "ExecuteTime": {
     "end_time": "2020-07-14T23:19:41.998230Z",
     "start_time": "2020-07-14T23:19:41.876194Z"
    }
   },
   "outputs": [],
   "source": [
    "df.to_csv('results_double_ordered.csv', index=False)"
   ]
  },
  {
   "cell_type": "code",
   "execution_count": 7,
   "metadata": {
    "ExecuteTime": {
     "end_time": "2020-07-15T01:51:23.175469Z",
     "start_time": "2020-07-15T01:51:23.157594Z"
    }
   },
   "outputs": [],
   "source": [
    "df = pd.read_csv('results_double_ordered.csv')"
   ]
  },
  {
   "cell_type": "markdown",
   "metadata": {},
   "source": [
    "### Blocks"
   ]
  },
  {
   "cell_type": "code",
   "execution_count": null,
   "metadata": {
    "ExecuteTime": {
     "end_time": "2020-07-15T02:31:34.599158Z",
     "start_time": "2020-07-15T01:56:00.881830Z"
    }
   },
   "outputs": [
    {
     "data": {
      "application/vnd.jupyter.widget-view+json": {
       "model_id": "54976ee400d341c59c123f919b9a4788",
       "version_major": 2,
       "version_minor": 0
      },
      "text/plain": [
       "HBox(children=(FloatProgress(value=0.0, max=3.0), HTML(value='')))"
      ]
     },
     "metadata": {},
     "output_type": "display_data"
    },
    {
     "data": {
      "application/vnd.jupyter.widget-view+json": {
       "model_id": "880af33e9eb34734844d73397e43fae9",
       "version_major": 2,
       "version_minor": 0
      },
      "text/plain": [
       "HBox(children=(FloatProgress(value=0.0, max=2.0), HTML(value='')))"
      ]
     },
     "metadata": {},
     "output_type": "display_data"
    },
    {
     "data": {
      "application/vnd.jupyter.widget-view+json": {
       "model_id": "6e349630a82c4d8e9a58780313c08fb5",
       "version_major": 2,
       "version_minor": 0
      },
      "text/plain": [
       "HBox(children=(FloatProgress(value=0.0, max=4.0), HTML(value='')))"
      ]
     },
     "metadata": {},
     "output_type": "display_data"
    },
    {
     "name": "stdout",
     "output_type": "stream",
     "text": [
      "\n"
     ]
    },
    {
     "data": {
      "application/vnd.jupyter.widget-view+json": {
       "model_id": "7a3d3f0810514d0d84522f71c6cf0cd2",
       "version_major": 2,
       "version_minor": 0
      },
      "text/plain": [
       "HBox(children=(FloatProgress(value=0.0, max=4.0), HTML(value='')))"
      ]
     },
     "metadata": {},
     "output_type": "display_data"
    },
    {
     "name": "stdout",
     "output_type": "stream",
     "text": [
      "\n",
      "\n"
     ]
    },
    {
     "data": {
      "application/vnd.jupyter.widget-view+json": {
       "model_id": "ceff08f2d6e942d4ae31749eaea25f3a",
       "version_major": 2,
       "version_minor": 0
      },
      "text/plain": [
       "HBox(children=(FloatProgress(value=0.0, max=2.0), HTML(value='')))"
      ]
     },
     "metadata": {},
     "output_type": "display_data"
    },
    {
     "data": {
      "application/vnd.jupyter.widget-view+json": {
       "model_id": "85a288ab462d4d42b8ef8367ae566a25",
       "version_major": 2,
       "version_minor": 0
      },
      "text/plain": [
       "HBox(children=(FloatProgress(value=0.0, max=4.0), HTML(value='')))"
      ]
     },
     "metadata": {},
     "output_type": "display_data"
    },
    {
     "name": "stdout",
     "output_type": "stream",
     "text": [
      "\n"
     ]
    },
    {
     "data": {
      "application/vnd.jupyter.widget-view+json": {
       "model_id": "782bde97c9ed414d97567e5c1eb7b1a3",
       "version_major": 2,
       "version_minor": 0
      },
      "text/plain": [
       "HBox(children=(FloatProgress(value=0.0, max=4.0), HTML(value='')))"
      ]
     },
     "metadata": {},
     "output_type": "display_data"
    },
    {
     "name": "stdout",
     "output_type": "stream",
     "text": [
      "\n",
      "\n"
     ]
    },
    {
     "data": {
      "application/vnd.jupyter.widget-view+json": {
       "model_id": "4dd53e0296ee4500a755562c8efb1a4b",
       "version_major": 2,
       "version_minor": 0
      },
      "text/plain": [
       "HBox(children=(FloatProgress(value=0.0, max=2.0), HTML(value='')))"
      ]
     },
     "metadata": {},
     "output_type": "display_data"
    },
    {
     "data": {
      "application/vnd.jupyter.widget-view+json": {
       "model_id": "357658625adc422e9ec7117c47cb29f5",
       "version_major": 2,
       "version_minor": 0
      },
      "text/plain": [
       "HBox(children=(FloatProgress(value=0.0, max=4.0), HTML(value='')))"
      ]
     },
     "metadata": {},
     "output_type": "display_data"
    }
   ],
   "source": [
    "for caso in tqdm(arr_casos_ordenados_blocks):\n",
    "    tipo_caso, arrs = list(caso.items())[0]\n",
    "    rows = []\n",
    "    \n",
    "    tipo_caso = tipo_caso.split('_')\n",
    "    \n",
    "    type_name = 'ordered'\n",
    "    \n",
    "    subtype = tipo_caso[1]\n",
    "    caracteristica = tipo_caso[2]\n",
    "    if tipo_caso[-1] == 'oversize':\n",
    "        oversize = 1\n",
    "    else:\n",
    "        oversize = 0\n",
    "    \n",
    "    for arr in tqdm(arrs):\n",
    "        d_hashes = [DoubleHash(size=s, update_size=True) for s in sizes]\n",
    "        for dh in tqdm(d_hashes):\n",
    "            dh.run_experiment(arr)\n",
    "            total_times, individual_times, original_size, final_size = dh.get_results()\n",
    "\n",
    "            row = {\n",
    "                'hash': 'double', \n",
    "                'original_size': original_size,\n",
    "                'final_size' : final_size,\n",
    "                'caso': type_name, \n",
    "                'subcaso' : subtype, \n",
    "                'caracteristica' : caracteristica, \n",
    "                'oversize' : oversize,\n",
    "                'tamano': len(arr), \n",
    "                'tiempos': individual_times, \n",
    "                'tiempo_total': total_times\n",
    "            }\n",
    "            \n",
    "        rows.append(row)\n",
    "    df = df.append(pd.DataFrame(rows), ignore_index=True)"
   ]
  },
  {
   "cell_type": "code",
   "execution_count": 9,
   "metadata": {
    "ExecuteTime": {
     "end_time": "2020-07-15T02:39:06.681336Z",
     "start_time": "2020-07-15T02:39:06.583727Z"
    }
   },
   "outputs": [],
   "source": [
    "df.to_csv('results_double_ordered.csv', index=False)"
   ]
  },
  {
   "cell_type": "markdown",
   "metadata": {},
   "source": [
    "## Secuencia de elementos repetidos\n",
    "\n",
    "Se crean las siguientes variaciones de secuencias:\n",
    "\n",
    "1. Secuencia de 3 elementos repetidos con step de 1\n",
    "2. Secuencia de 3 elementos repetidos con step de 3\n",
    "3. Secuencia de 3 elementos repetidos con step de $\\frac{th}{4}$\n",
    "4. Secuencia de $\\frac{th}{4}$ elementos repetidos con step aleatorio entre 4 y $th$\n",
    "\n",
    "Ademas para cada una de estas, existen dos tamaño: el tamaño de la tabla y 3 veces el tamaño de la tabla."
   ]
  },
  {
   "cell_type": "code",
   "execution_count": 10,
   "metadata": {
    "ExecuteTime": {
     "end_time": "2020-07-15T01:22:55.835231Z",
     "start_time": "2020-07-15T01:22:55.805714Z"
    }
   },
   "outputs": [
    {
     "data": {
      "text/plain": [
       "([WindowsPath('casos_lhash/repeated_3_1.npy'),\n",
       "  WindowsPath('casos_lhash/repeated_3_1_oversize.npy'),\n",
       "  WindowsPath('casos_lhash/repeated_3_3.npy'),\n",
       "  WindowsPath('casos_lhash/repeated_3_3_oversize.npy'),\n",
       "  WindowsPath('casos_lhash/repeated_3_quarter.npy'),\n",
       "  WindowsPath('casos_lhash/repeated_3_quarter_oversize.npy')],\n",
       " [WindowsPath('casos_lhash/repeated_quarter_1.npy'),\n",
       "  WindowsPath('casos_lhash/repeated_quarter_1_oversize.npy'),\n",
       "  WindowsPath('casos_lhash/repeated_quarter_random.npy'),\n",
       "  WindowsPath('casos_lhash/repeated_quarter_random_oversize.npy')])"
      ]
     },
     "execution_count": 10,
     "metadata": {},
     "output_type": "execute_result"
    }
   ],
   "source": [
    "df = pd.DataFrame(columns=['hash', 'original_size', 'final_size', 'caso',\n",
    "                           'repeticiones', 'step_size', 'oversize', 'tamano', 'tiempos', 'tiempo_total'])\n",
    "\n",
    "casos_repetidos_3 = list(Path(DATA_DIR).glob('repeated_3*'))\n",
    "casos_repetidos_quarter = list(Path(DATA_DIR).glob('repeated_quarter*'))\n",
    "\n",
    "arr_casos_repetidos_3 = [{caso.stem: np.load(caso, allow_pickle=True)} for caso in casos_repetidos_3]\n",
    "arr_casos_repetidos_quarter = [{caso.stem: np.load(caso, allow_pickle=True)} for caso in casos_repetidos_quarter]\n",
    "\n",
    "casos_repetidos_3, casos_repetidos_quarter"
   ]
  },
  {
   "cell_type": "code",
   "execution_count": 11,
   "metadata": {
    "ExecuteTime": {
     "end_time": "2020-07-15T01:48:11.610538Z",
     "start_time": "2020-07-15T01:22:59.340860Z"
    },
    "collapsed": true,
    "jupyter": {
     "outputs_hidden": true
    }
   },
   "outputs": [
    {
     "data": {
      "application/vnd.jupyter.widget-view+json": {
       "model_id": "7d10a0795fe24e16b470b26e1b1186a8",
       "version_major": 2,
       "version_minor": 0
      },
      "text/plain": [
       "HBox(children=(FloatProgress(value=0.0, max=6.0), HTML(value='')))"
      ]
     },
     "metadata": {},
     "output_type": "display_data"
    },
    {
     "data": {
      "application/vnd.jupyter.widget-view+json": {
       "model_id": "9787f73c335543fd8c2a9a304c9b0a6f",
       "version_major": 2,
       "version_minor": 0
      },
      "text/plain": [
       "HBox(children=(FloatProgress(value=0.0, max=4.0), HTML(value='')))"
      ]
     },
     "metadata": {},
     "output_type": "display_data"
    },
    {
     "data": {
      "application/vnd.jupyter.widget-view+json": {
       "model_id": "35559afe95aa4a0c95459e857c010e19",
       "version_major": 2,
       "version_minor": 0
      },
      "text/plain": [
       "HBox(children=(FloatProgress(value=0.0, max=4.0), HTML(value='')))"
      ]
     },
     "metadata": {},
     "output_type": "display_data"
    },
    {
     "name": "stdout",
     "output_type": "stream",
     "text": [
      "\n"
     ]
    },
    {
     "data": {
      "application/vnd.jupyter.widget-view+json": {
       "model_id": "1afd106503214a88b4f665778c6006bc",
       "version_major": 2,
       "version_minor": 0
      },
      "text/plain": [
       "HBox(children=(FloatProgress(value=0.0, max=4.0), HTML(value='')))"
      ]
     },
     "metadata": {},
     "output_type": "display_data"
    },
    {
     "name": "stdout",
     "output_type": "stream",
     "text": [
      "\n"
     ]
    },
    {
     "data": {
      "application/vnd.jupyter.widget-view+json": {
       "model_id": "dfd0efcb3a564241877c3f0cc94c15db",
       "version_major": 2,
       "version_minor": 0
      },
      "text/plain": [
       "HBox(children=(FloatProgress(value=0.0, max=4.0), HTML(value='')))"
      ]
     },
     "metadata": {},
     "output_type": "display_data"
    },
    {
     "name": "stdout",
     "output_type": "stream",
     "text": [
      "\n"
     ]
    },
    {
     "data": {
      "application/vnd.jupyter.widget-view+json": {
       "model_id": "bcb9cadf75c74c3594e3f8477b34affc",
       "version_major": 2,
       "version_minor": 0
      },
      "text/plain": [
       "HBox(children=(FloatProgress(value=0.0, max=4.0), HTML(value='')))"
      ]
     },
     "metadata": {},
     "output_type": "display_data"
    },
    {
     "name": "stdout",
     "output_type": "stream",
     "text": [
      "\n",
      "\n"
     ]
    },
    {
     "data": {
      "application/vnd.jupyter.widget-view+json": {
       "model_id": "0584e57586904ea3b780b18d30776bfc",
       "version_major": 2,
       "version_minor": 0
      },
      "text/plain": [
       "HBox(children=(FloatProgress(value=0.0, max=4.0), HTML(value='')))"
      ]
     },
     "metadata": {},
     "output_type": "display_data"
    },
    {
     "data": {
      "application/vnd.jupyter.widget-view+json": {
       "model_id": "3e1198978d6841bb9d2c914c5d19833c",
       "version_major": 2,
       "version_minor": 0
      },
      "text/plain": [
       "HBox(children=(FloatProgress(value=0.0, max=4.0), HTML(value='')))"
      ]
     },
     "metadata": {},
     "output_type": "display_data"
    },
    {
     "name": "stdout",
     "output_type": "stream",
     "text": [
      "\n"
     ]
    },
    {
     "data": {
      "application/vnd.jupyter.widget-view+json": {
       "model_id": "314aa45ace73463ca42132c7e49b5083",
       "version_major": 2,
       "version_minor": 0
      },
      "text/plain": [
       "HBox(children=(FloatProgress(value=0.0, max=4.0), HTML(value='')))"
      ]
     },
     "metadata": {},
     "output_type": "display_data"
    },
    {
     "name": "stdout",
     "output_type": "stream",
     "text": [
      "\n"
     ]
    },
    {
     "data": {
      "application/vnd.jupyter.widget-view+json": {
       "model_id": "48d0734fadbc4079ab93b0b07bb04014",
       "version_major": 2,
       "version_minor": 0
      },
      "text/plain": [
       "HBox(children=(FloatProgress(value=0.0, max=4.0), HTML(value='')))"
      ]
     },
     "metadata": {},
     "output_type": "display_data"
    },
    {
     "name": "stdout",
     "output_type": "stream",
     "text": [
      "\n"
     ]
    },
    {
     "data": {
      "application/vnd.jupyter.widget-view+json": {
       "model_id": "2eb1f7181b89440e9f9bbeb71d23c4a5",
       "version_major": 2,
       "version_minor": 0
      },
      "text/plain": [
       "HBox(children=(FloatProgress(value=0.0, max=4.0), HTML(value='')))"
      ]
     },
     "metadata": {},
     "output_type": "display_data"
    },
    {
     "name": "stdout",
     "output_type": "stream",
     "text": [
      "\n",
      "\n"
     ]
    },
    {
     "data": {
      "application/vnd.jupyter.widget-view+json": {
       "model_id": "47ec6bdafdfd4222926abadd4ca9ebff",
       "version_major": 2,
       "version_minor": 0
      },
      "text/plain": [
       "HBox(children=(FloatProgress(value=0.0, max=4.0), HTML(value='')))"
      ]
     },
     "metadata": {},
     "output_type": "display_data"
    },
    {
     "data": {
      "application/vnd.jupyter.widget-view+json": {
       "model_id": "ebf9c7ce54e742a688e1651a819aea8f",
       "version_major": 2,
       "version_minor": 0
      },
      "text/plain": [
       "HBox(children=(FloatProgress(value=0.0, max=4.0), HTML(value='')))"
      ]
     },
     "metadata": {},
     "output_type": "display_data"
    },
    {
     "name": "stdout",
     "output_type": "stream",
     "text": [
      "\n"
     ]
    },
    {
     "data": {
      "application/vnd.jupyter.widget-view+json": {
       "model_id": "12af19df6bf94210b5e2a666beafafbd",
       "version_major": 2,
       "version_minor": 0
      },
      "text/plain": [
       "HBox(children=(FloatProgress(value=0.0, max=4.0), HTML(value='')))"
      ]
     },
     "metadata": {},
     "output_type": "display_data"
    },
    {
     "name": "stdout",
     "output_type": "stream",
     "text": [
      "\n"
     ]
    },
    {
     "data": {
      "application/vnd.jupyter.widget-view+json": {
       "model_id": "4267ecd5a1804abb9c2499519e1fa931",
       "version_major": 2,
       "version_minor": 0
      },
      "text/plain": [
       "HBox(children=(FloatProgress(value=0.0, max=4.0), HTML(value='')))"
      ]
     },
     "metadata": {},
     "output_type": "display_data"
    },
    {
     "name": "stdout",
     "output_type": "stream",
     "text": [
      "\n"
     ]
    },
    {
     "data": {
      "application/vnd.jupyter.widget-view+json": {
       "model_id": "e96098026e1945f6a289e787d3472797",
       "version_major": 2,
       "version_minor": 0
      },
      "text/plain": [
       "HBox(children=(FloatProgress(value=0.0, max=4.0), HTML(value='')))"
      ]
     },
     "metadata": {},
     "output_type": "display_data"
    },
    {
     "name": "stdout",
     "output_type": "stream",
     "text": [
      "\n",
      "\n"
     ]
    },
    {
     "data": {
      "application/vnd.jupyter.widget-view+json": {
       "model_id": "fa4170a50f1b40d9ad056604bf122c65",
       "version_major": 2,
       "version_minor": 0
      },
      "text/plain": [
       "HBox(children=(FloatProgress(value=0.0, max=4.0), HTML(value='')))"
      ]
     },
     "metadata": {},
     "output_type": "display_data"
    },
    {
     "data": {
      "application/vnd.jupyter.widget-view+json": {
       "model_id": "64f6e3a76a104452b9111f82be2f3352",
       "version_major": 2,
       "version_minor": 0
      },
      "text/plain": [
       "HBox(children=(FloatProgress(value=0.0, max=4.0), HTML(value='')))"
      ]
     },
     "metadata": {},
     "output_type": "display_data"
    },
    {
     "name": "stdout",
     "output_type": "stream",
     "text": [
      "\n"
     ]
    },
    {
     "data": {
      "application/vnd.jupyter.widget-view+json": {
       "model_id": "d21328a215b044448eda0b0351de865d",
       "version_major": 2,
       "version_minor": 0
      },
      "text/plain": [
       "HBox(children=(FloatProgress(value=0.0, max=4.0), HTML(value='')))"
      ]
     },
     "metadata": {},
     "output_type": "display_data"
    },
    {
     "name": "stdout",
     "output_type": "stream",
     "text": [
      "\n"
     ]
    },
    {
     "data": {
      "application/vnd.jupyter.widget-view+json": {
       "model_id": "959b069b8ae64c21a317f694638d4e59",
       "version_major": 2,
       "version_minor": 0
      },
      "text/plain": [
       "HBox(children=(FloatProgress(value=0.0, max=4.0), HTML(value='')))"
      ]
     },
     "metadata": {},
     "output_type": "display_data"
    },
    {
     "name": "stdout",
     "output_type": "stream",
     "text": [
      "\n"
     ]
    },
    {
     "data": {
      "application/vnd.jupyter.widget-view+json": {
       "model_id": "76b8a1ca9c8249b490f117a275e48d75",
       "version_major": 2,
       "version_minor": 0
      },
      "text/plain": [
       "HBox(children=(FloatProgress(value=0.0, max=4.0), HTML(value='')))"
      ]
     },
     "metadata": {},
     "output_type": "display_data"
    },
    {
     "name": "stdout",
     "output_type": "stream",
     "text": [
      "\n",
      "\n"
     ]
    },
    {
     "data": {
      "application/vnd.jupyter.widget-view+json": {
       "model_id": "1a2721388db340ccb5e910032091f1f0",
       "version_major": 2,
       "version_minor": 0
      },
      "text/plain": [
       "HBox(children=(FloatProgress(value=0.0, max=4.0), HTML(value='')))"
      ]
     },
     "metadata": {},
     "output_type": "display_data"
    },
    {
     "data": {
      "application/vnd.jupyter.widget-view+json": {
       "model_id": "9081f8b0c139495e9e2cb5593eb4cafe",
       "version_major": 2,
       "version_minor": 0
      },
      "text/plain": [
       "HBox(children=(FloatProgress(value=0.0, max=4.0), HTML(value='')))"
      ]
     },
     "metadata": {},
     "output_type": "display_data"
    },
    {
     "name": "stdout",
     "output_type": "stream",
     "text": [
      "\n"
     ]
    },
    {
     "data": {
      "application/vnd.jupyter.widget-view+json": {
       "model_id": "1af8383f059c4db589e8a31ff84208e8",
       "version_major": 2,
       "version_minor": 0
      },
      "text/plain": [
       "HBox(children=(FloatProgress(value=0.0, max=4.0), HTML(value='')))"
      ]
     },
     "metadata": {},
     "output_type": "display_data"
    },
    {
     "name": "stdout",
     "output_type": "stream",
     "text": [
      "\n"
     ]
    },
    {
     "data": {
      "application/vnd.jupyter.widget-view+json": {
       "model_id": "442e39bfa66e414d946bda8a7b983e9e",
       "version_major": 2,
       "version_minor": 0
      },
      "text/plain": [
       "HBox(children=(FloatProgress(value=0.0, max=4.0), HTML(value='')))"
      ]
     },
     "metadata": {},
     "output_type": "display_data"
    },
    {
     "name": "stdout",
     "output_type": "stream",
     "text": [
      "\n"
     ]
    },
    {
     "data": {
      "application/vnd.jupyter.widget-view+json": {
       "model_id": "c87e775a4834439584c9d36732d23509",
       "version_major": 2,
       "version_minor": 0
      },
      "text/plain": [
       "HBox(children=(FloatProgress(value=0.0, max=4.0), HTML(value='')))"
      ]
     },
     "metadata": {},
     "output_type": "display_data"
    },
    {
     "name": "stdout",
     "output_type": "stream",
     "text": [
      "\n",
      "\n"
     ]
    },
    {
     "data": {
      "application/vnd.jupyter.widget-view+json": {
       "model_id": "16601a2e047b4ca58722b1ec33619dc4",
       "version_major": 2,
       "version_minor": 0
      },
      "text/plain": [
       "HBox(children=(FloatProgress(value=0.0, max=4.0), HTML(value='')))"
      ]
     },
     "metadata": {},
     "output_type": "display_data"
    },
    {
     "data": {
      "application/vnd.jupyter.widget-view+json": {
       "model_id": "2fe9485e55fa46ac99750fe8026b7071",
       "version_major": 2,
       "version_minor": 0
      },
      "text/plain": [
       "HBox(children=(FloatProgress(value=0.0, max=4.0), HTML(value='')))"
      ]
     },
     "metadata": {},
     "output_type": "display_data"
    },
    {
     "name": "stdout",
     "output_type": "stream",
     "text": [
      "\n"
     ]
    },
    {
     "data": {
      "application/vnd.jupyter.widget-view+json": {
       "model_id": "561fc855cfc64c38866c93fc34780f47",
       "version_major": 2,
       "version_minor": 0
      },
      "text/plain": [
       "HBox(children=(FloatProgress(value=0.0, max=4.0), HTML(value='')))"
      ]
     },
     "metadata": {},
     "output_type": "display_data"
    },
    {
     "name": "stdout",
     "output_type": "stream",
     "text": [
      "\n"
     ]
    },
    {
     "data": {
      "application/vnd.jupyter.widget-view+json": {
       "model_id": "74b29c5c591948639ae9daa05b0287a9",
       "version_major": 2,
       "version_minor": 0
      },
      "text/plain": [
       "HBox(children=(FloatProgress(value=0.0, max=4.0), HTML(value='')))"
      ]
     },
     "metadata": {},
     "output_type": "display_data"
    },
    {
     "name": "stdout",
     "output_type": "stream",
     "text": [
      "\n"
     ]
    },
    {
     "data": {
      "application/vnd.jupyter.widget-view+json": {
       "model_id": "9f5902409b6340c79708746f83305fd6",
       "version_major": 2,
       "version_minor": 0
      },
      "text/plain": [
       "HBox(children=(FloatProgress(value=0.0, max=4.0), HTML(value='')))"
      ]
     },
     "metadata": {},
     "output_type": "display_data"
    },
    {
     "name": "stdout",
     "output_type": "stream",
     "text": [
      "\n",
      "\n",
      "\n"
     ]
    }
   ],
   "source": [
    "for caso in tqdm(arr_casos_repetidos_3):\n",
    "    tipo_caso, arrs = list(caso.items())[0]\n",
    "    rows = []\n",
    "    \n",
    "    tipo_caso = tipo_caso.split('_')\n",
    "    \n",
    "    type_name = 'repeated'\n",
    "    \n",
    "    num_repeats = tipo_caso[1]\n",
    "    step_size = tipo_caso[2]\n",
    "    \n",
    "    if tipo_caso[-1] == 'oversize':\n",
    "        oversize = 1\n",
    "    else:\n",
    "        oversize = 0\n",
    "    \n",
    "    for arr in tqdm(arrs):\n",
    "        d_hashes = [DoubleHash(size=s, update_size=True) for s in sizes]\n",
    "        for dh in tqdm(d_hashes):\n",
    "            dh.run_experiment(arr)\n",
    "            total_times, individual_times, original_size, final_size = dh.get_results()\n",
    "\n",
    "            row = {\n",
    "                'hash': 'double', \n",
    "                'original_size': original_size,\n",
    "                'final_size' : final_size,\n",
    "                'caso': type_name, \n",
    "                'repeticiones' : num_repeats, \n",
    "                'step_size' : step_size, \n",
    "                'oversize' : oversize,\n",
    "                'tamano': len(arr), \n",
    "                'tiempos': individual_times, \n",
    "                'tiempo_total': total_times\n",
    "            }\n",
    "            \n",
    "        rows.append(row)\n",
    "    df = df.append(pd.DataFrame(rows), ignore_index=True)"
   ]
  },
  {
   "cell_type": "code",
   "execution_count": 12,
   "metadata": {
    "ExecuteTime": {
     "end_time": "2020-07-15T01:49:54.150434Z",
     "start_time": "2020-07-15T01:49:53.916985Z"
    }
   },
   "outputs": [],
   "source": [
    "df.to_csv('results_double_repeated.csv', index=False)"
   ]
  },
  {
   "cell_type": "code",
   "execution_count": 13,
   "metadata": {
    "ExecuteTime": {
     "start_time": "2020-07-15T01:00:29.919Z"
    }
   },
   "outputs": [],
   "source": [
    "# for caso in tqdm(arr_casos_repetidos_quarter):\n",
    "#     tipo_caso, arrs = list(caso.items())[0]\n",
    "#     rows = []\n",
    "    \n",
    "#     tipo_caso = tipo_caso.split('_')\n",
    "    \n",
    "#     type_name = 'repeated'\n",
    "    \n",
    "#     num_repeats = tipo_caso[1]\n",
    "#     step_size = tipo_caso[2]\n",
    "    \n",
    "#     if tipo_caso[-1] == 'oversize':\n",
    "#         oversize = 1\n",
    "#     else:\n",
    "#         oversize = 0\n",
    "    \n",
    "#     for arr in tqdm(arrs):\n",
    "#         l_hashes = [LinearHash(size=s, update_size=True) for s in sizes]\n",
    "#         for lh in tqdm(l_hashes):\n",
    "#             lh.run_experiment(arr)\n",
    "#             total_times, individual_times, original_size, final_size = lh.get_results()\n",
    "\n",
    "#             row = {\n",
    "#                 'hash': 'double', \n",
    "#                 'original_size': original_size,\n",
    "#                 'final_size' : final_size,\n",
    "#                 'caso': type_name, \n",
    "#                 'repeticiones' : num_repeats, \n",
    "#                 'step_size' : step_size, \n",
    "#                 'oversize' : oversize,\n",
    "#                 'tamano': len(arr), \n",
    "#                 'tiempos': individual_times, \n",
    "#                 'tiempo_total': total_times\n",
    "#             }\n",
    "            \n",
    "#         rows.append(row)\n",
    "#     df = df.append(pd.DataFrame(rows), ignore_index=True)"
   ]
  },
  {
   "cell_type": "markdown",
   "metadata": {},
   "source": [
    "## Secuencia de elementos aleatorias\n",
    "\n",
    "Se crean las siguientes variaciones de secuencias:\n",
    "\n",
    "1. Secuencias aleatorias"
   ]
  },
  {
   "cell_type": "code",
   "execution_count": 3,
   "metadata": {
    "ExecuteTime": {
     "end_time": "2020-07-14T21:54:49.827378Z",
     "start_time": "2020-07-14T21:54:49.822321Z"
    }
   },
   "outputs": [
    {
     "data": {
      "text/plain": [
       "[]"
      ]
     },
     "execution_count": 3,
     "metadata": {},
     "output_type": "execute_result"
    }
   ],
   "source": [
    "df = pd.DataFrame(columns=['hash', 'original_size', 'final_size', 'caso',\n",
    "                           'caracteristica', 'tamano', 'oversize', 'tiempos', \n",
    "                           'tiempo_total'])\n",
    "\n",
    "\n",
    "casos_rand = list(Path(DATA_DIR).glob('random*'))\n",
    "arr_casos_rand = [{caso.stem: np.load(caso, allow_pickle=True)} for caso in casos_rand]\n",
    "casos_rand"
   ]
  },
  {
   "cell_type": "code",
   "execution_count": 15,
   "metadata": {
    "ExecuteTime": {
     "start_time": "2020-07-14T20:39:59.205Z"
    }
   },
   "outputs": [],
   "source": [
    "for caso in tqdm(arr_casos_rand):\n",
    "    tipo_caso, arrs = list(caso.items())[0]\n",
    "    rows = []\n",
    "    \n",
    "    tipo_caso = tipo_caso.split('_')\n",
    "    \n",
    "    type_name = 'random'\n",
    "    \n",
    "    caracteristica = tipo_caso[1]\n",
    "    \n",
    "    if tipo_caso[-1] == 'oversize':\n",
    "        oversize = 1\n",
    "    else:\n",
    "        oversize = 0\n",
    "        \n",
    "    for arr in tqdm(arrs):\n",
    "        d_hashes = [DoubleHash(size=s, update_size=True) for s in sizes]\n",
    "        for dh in tqdm(d_hashes):\n",
    "            dh.run_experiment(arr)\n",
    "            total_times, individual_times, original_size, final_size = dh.get_results()\n",
    "\n",
    "            row = {\n",
    "                'hash': 'double', \n",
    "                'original_size': original_size,\n",
    "                'final_size' : final_size,\n",
    "                'caso': tipo_caso, \n",
    "                'caracteristica': caracteristica,\n",
    "                'tamano': len(arr), \n",
    "                'oversize': oversize,\n",
    "                'tiempos': individual_times, \n",
    "                'tiempo_total': total_times\n",
    "            }\n",
    "            \n",
    "        rows.append(row)\n",
    "    df = df.append(pd.DataFrame(rows), ignore_index=True)"
   ]
  },
  {
   "cell_type": "code",
   "execution_count": null,
   "metadata": {},
   "outputs": [],
   "source": [
    "df.to_csv('results_double_random.csv', index=False)"
   ]
  },
  {
   "cell_type": "code",
   "execution_count": 16,
   "metadata": {
    "ExecuteTime": {
     "start_time": "2020-07-14T20:39:59.207Z"
    }
   },
   "outputs": [
    {
     "data": {
      "text/html": [
       "<div>\n",
       "<style scoped>\n",
       "    .dataframe tbody tr th:only-of-type {\n",
       "        vertical-align: middle;\n",
       "    }\n",
       "\n",
       "    .dataframe tbody tr th {\n",
       "        vertical-align: top;\n",
       "    }\n",
       "\n",
       "    .dataframe thead th {\n",
       "        text-align: right;\n",
       "    }\n",
       "</style>\n",
       "<table border=\"1\" class=\"dataframe\">\n",
       "  <thead>\n",
       "    <tr style=\"text-align: right;\">\n",
       "      <th></th>\n",
       "      <th>hash</th>\n",
       "      <th>original_size</th>\n",
       "      <th>final_size</th>\n",
       "      <th>caso</th>\n",
       "      <th>repeticiones</th>\n",
       "      <th>step_size</th>\n",
       "      <th>oversize</th>\n",
       "      <th>tamano</th>\n",
       "      <th>tiempos</th>\n",
       "      <th>tiempo_total</th>\n",
       "    </tr>\n",
       "  </thead>\n",
       "  <tbody>\n",
       "    <tr>\n",
       "      <th>0</th>\n",
       "      <td>lineal</td>\n",
       "      <td>7510</td>\n",
       "      <td>7510</td>\n",
       "      <td>repeated</td>\n",
       "      <td>3</td>\n",
       "      <td>1</td>\n",
       "      <td>0</td>\n",
       "      <td>12</td>\n",
       "      <td>[0.0, 0.0, 0.0, 0.0, 0.0, 0.0, 0.0, 0.0, 0.0, ...</td>\n",
       "      <td>[0.0]</td>\n",
       "    </tr>\n",
       "    <tr>\n",
       "      <th>1</th>\n",
       "      <td>lineal</td>\n",
       "      <td>7510</td>\n",
       "      <td>7510</td>\n",
       "      <td>repeated</td>\n",
       "      <td>3</td>\n",
       "      <td>1</td>\n",
       "      <td>0</td>\n",
       "      <td>2511</td>\n",
       "      <td>[0.0, 0.0, 0.0, 0.0, 0.0, 0.0, 0.0, 0.0, 0.0, ...</td>\n",
       "      <td>[0.04587388038635254]</td>\n",
       "    </tr>\n",
       "    <tr>\n",
       "      <th>2</th>\n",
       "      <td>lineal</td>\n",
       "      <td>7510</td>\n",
       "      <td>7510</td>\n",
       "      <td>repeated</td>\n",
       "      <td>3</td>\n",
       "      <td>1</td>\n",
       "      <td>0</td>\n",
       "      <td>5013</td>\n",
       "      <td>[0.0, 0.0, 0.0, 0.0, 0.0, 0.0, 0.0, 0.0, 0.0, ...</td>\n",
       "      <td>[0.21982979774475098]</td>\n",
       "    </tr>\n",
       "    <tr>\n",
       "      <th>3</th>\n",
       "      <td>lineal</td>\n",
       "      <td>7510</td>\n",
       "      <td>15020</td>\n",
       "      <td>repeated</td>\n",
       "      <td>3</td>\n",
       "      <td>1</td>\n",
       "      <td>0</td>\n",
       "      <td>7512</td>\n",
       "      <td>[0.0, 0.0, 0.0, 0.0, 0.0, 0.0, 0.0, 0.0, 0.0, ...</td>\n",
       "      <td>[0.20744776725769043]</td>\n",
       "    </tr>\n",
       "    <tr>\n",
       "      <th>4</th>\n",
       "      <td>lineal</td>\n",
       "      <td>7510</td>\n",
       "      <td>7510</td>\n",
       "      <td>repeated</td>\n",
       "      <td>3</td>\n",
       "      <td>1</td>\n",
       "      <td>1</td>\n",
       "      <td>33</td>\n",
       "      <td>[0.0, 0.0, 0.0, 0.0, 0.0, 0.0, 0.0, 0.0, 0.0, ...</td>\n",
       "      <td>[0.0010333061218261719]</td>\n",
       "    </tr>\n",
       "    <tr>\n",
       "      <th>5</th>\n",
       "      <td>lineal</td>\n",
       "      <td>7510</td>\n",
       "      <td>15020</td>\n",
       "      <td>repeated</td>\n",
       "      <td>3</td>\n",
       "      <td>1</td>\n",
       "      <td>1</td>\n",
       "      <td>7533</td>\n",
       "      <td>[0.0, 0.0, 0.0, 0.0, 0.0, 0.000997781753540039...</td>\n",
       "      <td>[0.19946527481079102]</td>\n",
       "    </tr>\n",
       "    <tr>\n",
       "      <th>6</th>\n",
       "      <td>lineal</td>\n",
       "      <td>7510</td>\n",
       "      <td>30040</td>\n",
       "      <td>repeated</td>\n",
       "      <td>3</td>\n",
       "      <td>1</td>\n",
       "      <td>1</td>\n",
       "      <td>15033</td>\n",
       "      <td>[0.0, 0.0, 0.0, 0.0, 0.0, 0.0, 0.0, 0.0, 0.0, ...</td>\n",
       "      <td>[0.7699837684631348]</td>\n",
       "    </tr>\n",
       "    <tr>\n",
       "      <th>7</th>\n",
       "      <td>lineal</td>\n",
       "      <td>7510</td>\n",
       "      <td>30040</td>\n",
       "      <td>repeated</td>\n",
       "      <td>3</td>\n",
       "      <td>1</td>\n",
       "      <td>1</td>\n",
       "      <td>22533</td>\n",
       "      <td>[0.0, 0.0, 0.0, 0.0, 0.0, 0.0, 0.0, 0.0, 0.0, ...</td>\n",
       "      <td>[2.4768500328063965]</td>\n",
       "    </tr>\n",
       "    <tr>\n",
       "      <th>8</th>\n",
       "      <td>lineal</td>\n",
       "      <td>7510</td>\n",
       "      <td>7510</td>\n",
       "      <td>repeated</td>\n",
       "      <td>3</td>\n",
       "      <td>3</td>\n",
       "      <td>0</td>\n",
       "      <td>12</td>\n",
       "      <td>[0.0, 0.0, 0.0, 0.0, 0.0, 0.0, 0.0, 0.0, 0.0, ...</td>\n",
       "      <td>[0.0]</td>\n",
       "    </tr>\n",
       "    <tr>\n",
       "      <th>9</th>\n",
       "      <td>lineal</td>\n",
       "      <td>7510</td>\n",
       "      <td>15020</td>\n",
       "      <td>repeated</td>\n",
       "      <td>3</td>\n",
       "      <td>3</td>\n",
       "      <td>0</td>\n",
       "      <td>2511</td>\n",
       "      <td>[0.0, 0.0, 0.0, 0.0, 0.0, 0.0, 0.0, 0.0, 0.0, ...</td>\n",
       "      <td>[0.049010515213012695]</td>\n",
       "    </tr>\n",
       "    <tr>\n",
       "      <th>10</th>\n",
       "      <td>lineal</td>\n",
       "      <td>7510</td>\n",
       "      <td>15020</td>\n",
       "      <td>repeated</td>\n",
       "      <td>3</td>\n",
       "      <td>3</td>\n",
       "      <td>0</td>\n",
       "      <td>5013</td>\n",
       "      <td>[0.0, 0.0, 0.0, 0.0, 0.0, 0.0, 0.0, 0.0, 0.0, ...</td>\n",
       "      <td>[0.08876991271972656]</td>\n",
       "    </tr>\n",
       "    <tr>\n",
       "      <th>11</th>\n",
       "      <td>lineal</td>\n",
       "      <td>7510</td>\n",
       "      <td>15020</td>\n",
       "      <td>repeated</td>\n",
       "      <td>3</td>\n",
       "      <td>3</td>\n",
       "      <td>0</td>\n",
       "      <td>7512</td>\n",
       "      <td>[0.0, 0.0, 0.0, 0.0, 0.0, 0.0, 0.0, 0.0, 0.0, ...</td>\n",
       "      <td>[0.4837524890899658]</td>\n",
       "    </tr>\n",
       "    <tr>\n",
       "      <th>12</th>\n",
       "      <td>lineal</td>\n",
       "      <td>7510</td>\n",
       "      <td>7510</td>\n",
       "      <td>repeated</td>\n",
       "      <td>3</td>\n",
       "      <td>3</td>\n",
       "      <td>1</td>\n",
       "      <td>33</td>\n",
       "      <td>[0.0, 0.0, 0.0, 0.0, 0.0, 0.0, 0.0, 0.0, 0.0, ...</td>\n",
       "      <td>[0.0]</td>\n",
       "    </tr>\n",
       "    <tr>\n",
       "      <th>13</th>\n",
       "      <td>lineal</td>\n",
       "      <td>7510</td>\n",
       "      <td>15020</td>\n",
       "      <td>repeated</td>\n",
       "      <td>3</td>\n",
       "      <td>3</td>\n",
       "      <td>1</td>\n",
       "      <td>7533</td>\n",
       "      <td>[0.0, 0.0, 0.0, 0.0, 0.0, 0.0, 0.0, 0.0, 0.0, ...</td>\n",
       "      <td>[0.16161775588989258]</td>\n",
       "    </tr>\n",
       "    <tr>\n",
       "      <th>14</th>\n",
       "      <td>lineal</td>\n",
       "      <td>7510</td>\n",
       "      <td>30040</td>\n",
       "      <td>repeated</td>\n",
       "      <td>3</td>\n",
       "      <td>3</td>\n",
       "      <td>1</td>\n",
       "      <td>15033</td>\n",
       "      <td>[0.0, 0.0, 0.0, 0.0, 0.0, 0.0, 0.0, 0.0, 0.0, ...</td>\n",
       "      <td>[1.6300244331359863]</td>\n",
       "    </tr>\n",
       "    <tr>\n",
       "      <th>15</th>\n",
       "      <td>lineal</td>\n",
       "      <td>7510</td>\n",
       "      <td>60080</td>\n",
       "      <td>repeated</td>\n",
       "      <td>3</td>\n",
       "      <td>3</td>\n",
       "      <td>1</td>\n",
       "      <td>22533</td>\n",
       "      <td>[0.0, 0.0, 0.0, 0.0, 0.0, 0.0, 0.0, 0.0, 0.0, ...</td>\n",
       "      <td>[0.6856200695037842]</td>\n",
       "    </tr>\n",
       "    <tr>\n",
       "      <th>16</th>\n",
       "      <td>lineal</td>\n",
       "      <td>7510</td>\n",
       "      <td>7510</td>\n",
       "      <td>repeated</td>\n",
       "      <td>3</td>\n",
       "      <td>quarter</td>\n",
       "      <td>0</td>\n",
       "      <td>12</td>\n",
       "      <td>[0.0, 0.0, 0.0, 0.0, 0.0, 0.0, 0.0, 0.0, 0.0, ...</td>\n",
       "      <td>[0.0]</td>\n",
       "    </tr>\n",
       "    <tr>\n",
       "      <th>17</th>\n",
       "      <td>lineal</td>\n",
       "      <td>7510</td>\n",
       "      <td>7510</td>\n",
       "      <td>repeated</td>\n",
       "      <td>3</td>\n",
       "      <td>quarter</td>\n",
       "      <td>0</td>\n",
       "      <td>2511</td>\n",
       "      <td>[0.0, 0.0, 0.0, 0.0, 0.0, 0.0, 0.0, 0.00059437...</td>\n",
       "      <td>[0.041051626205444336]</td>\n",
       "    </tr>\n",
       "    <tr>\n",
       "      <th>18</th>\n",
       "      <td>lineal</td>\n",
       "      <td>7510</td>\n",
       "      <td>30040</td>\n",
       "      <td>repeated</td>\n",
       "      <td>3</td>\n",
       "      <td>quarter</td>\n",
       "      <td>0</td>\n",
       "      <td>5013</td>\n",
       "      <td>[0.0, 0.0, 0.0, 0.0, 0.0, 0.0, 0.0, 0.0, 0.0, ...</td>\n",
       "      <td>[0.12006235122680664]</td>\n",
       "    </tr>\n",
       "    <tr>\n",
       "      <th>19</th>\n",
       "      <td>lineal</td>\n",
       "      <td>7510</td>\n",
       "      <td>15020</td>\n",
       "      <td>repeated</td>\n",
       "      <td>3</td>\n",
       "      <td>quarter</td>\n",
       "      <td>0</td>\n",
       "      <td>7512</td>\n",
       "      <td>[0.0, 0.0, 0.0, 0.0, 0.0, 0.0, 0.0, 0.0, 0.0, ...</td>\n",
       "      <td>[0.4894592761993408]</td>\n",
       "    </tr>\n",
       "    <tr>\n",
       "      <th>20</th>\n",
       "      <td>lineal</td>\n",
       "      <td>7510</td>\n",
       "      <td>7510</td>\n",
       "      <td>repeated</td>\n",
       "      <td>3</td>\n",
       "      <td>quarter</td>\n",
       "      <td>1</td>\n",
       "      <td>33</td>\n",
       "      <td>[0.0, 0.0, 0.0, 0.0, 0.0, 0.0, 0.0, 0.0, 0.0, ...</td>\n",
       "      <td>[0.0009653568267822266]</td>\n",
       "    </tr>\n",
       "    <tr>\n",
       "      <th>21</th>\n",
       "      <td>lineal</td>\n",
       "      <td>7510</td>\n",
       "      <td>30040</td>\n",
       "      <td>repeated</td>\n",
       "      <td>3</td>\n",
       "      <td>quarter</td>\n",
       "      <td>1</td>\n",
       "      <td>7533</td>\n",
       "      <td>[0.0, 0.0, 0.0, 0.0, 0.0, 0.0, 0.0, 0.0, 0.0, ...</td>\n",
       "      <td>[0.163726806640625]</td>\n",
       "    </tr>\n",
       "    <tr>\n",
       "      <th>22</th>\n",
       "      <td>lineal</td>\n",
       "      <td>7510</td>\n",
       "      <td>30040</td>\n",
       "      <td>repeated</td>\n",
       "      <td>3</td>\n",
       "      <td>quarter</td>\n",
       "      <td>1</td>\n",
       "      <td>15033</td>\n",
       "      <td>[0.0, 0.0, 0.0, 0.0, 0.0, 0.0, 0.0, 0.0, 0.0, ...</td>\n",
       "      <td>[0.9531631469726562]</td>\n",
       "    </tr>\n",
       "    <tr>\n",
       "      <th>23</th>\n",
       "      <td>lineal</td>\n",
       "      <td>7510</td>\n",
       "      <td>30040</td>\n",
       "      <td>repeated</td>\n",
       "      <td>3</td>\n",
       "      <td>quarter</td>\n",
       "      <td>1</td>\n",
       "      <td>22533</td>\n",
       "      <td>[0.0, 0.0, 0.0, 0.0, 0.0, 0.0, 0.0, 0.0, 0.0, ...</td>\n",
       "      <td>[1.9888832569122314]</td>\n",
       "    </tr>\n",
       "  </tbody>\n",
       "</table>\n",
       "</div>"
      ],
      "text/plain": [
       "      hash original_size final_size      caso repeticiones step_size oversize  \\\n",
       "0   lineal          7510       7510  repeated            3         1        0   \n",
       "1   lineal          7510       7510  repeated            3         1        0   \n",
       "2   lineal          7510       7510  repeated            3         1        0   \n",
       "3   lineal          7510      15020  repeated            3         1        0   \n",
       "4   lineal          7510       7510  repeated            3         1        1   \n",
       "5   lineal          7510      15020  repeated            3         1        1   \n",
       "6   lineal          7510      30040  repeated            3         1        1   \n",
       "7   lineal          7510      30040  repeated            3         1        1   \n",
       "8   lineal          7510       7510  repeated            3         3        0   \n",
       "9   lineal          7510      15020  repeated            3         3        0   \n",
       "10  lineal          7510      15020  repeated            3         3        0   \n",
       "11  lineal          7510      15020  repeated            3         3        0   \n",
       "12  lineal          7510       7510  repeated            3         3        1   \n",
       "13  lineal          7510      15020  repeated            3         3        1   \n",
       "14  lineal          7510      30040  repeated            3         3        1   \n",
       "15  lineal          7510      60080  repeated            3         3        1   \n",
       "16  lineal          7510       7510  repeated            3   quarter        0   \n",
       "17  lineal          7510       7510  repeated            3   quarter        0   \n",
       "18  lineal          7510      30040  repeated            3   quarter        0   \n",
       "19  lineal          7510      15020  repeated            3   quarter        0   \n",
       "20  lineal          7510       7510  repeated            3   quarter        1   \n",
       "21  lineal          7510      30040  repeated            3   quarter        1   \n",
       "22  lineal          7510      30040  repeated            3   quarter        1   \n",
       "23  lineal          7510      30040  repeated            3   quarter        1   \n",
       "\n",
       "   tamano                                            tiempos  \\\n",
       "0      12  [0.0, 0.0, 0.0, 0.0, 0.0, 0.0, 0.0, 0.0, 0.0, ...   \n",
       "1    2511  [0.0, 0.0, 0.0, 0.0, 0.0, 0.0, 0.0, 0.0, 0.0, ...   \n",
       "2    5013  [0.0, 0.0, 0.0, 0.0, 0.0, 0.0, 0.0, 0.0, 0.0, ...   \n",
       "3    7512  [0.0, 0.0, 0.0, 0.0, 0.0, 0.0, 0.0, 0.0, 0.0, ...   \n",
       "4      33  [0.0, 0.0, 0.0, 0.0, 0.0, 0.0, 0.0, 0.0, 0.0, ...   \n",
       "5    7533  [0.0, 0.0, 0.0, 0.0, 0.0, 0.000997781753540039...   \n",
       "6   15033  [0.0, 0.0, 0.0, 0.0, 0.0, 0.0, 0.0, 0.0, 0.0, ...   \n",
       "7   22533  [0.0, 0.0, 0.0, 0.0, 0.0, 0.0, 0.0, 0.0, 0.0, ...   \n",
       "8      12  [0.0, 0.0, 0.0, 0.0, 0.0, 0.0, 0.0, 0.0, 0.0, ...   \n",
       "9    2511  [0.0, 0.0, 0.0, 0.0, 0.0, 0.0, 0.0, 0.0, 0.0, ...   \n",
       "10   5013  [0.0, 0.0, 0.0, 0.0, 0.0, 0.0, 0.0, 0.0, 0.0, ...   \n",
       "11   7512  [0.0, 0.0, 0.0, 0.0, 0.0, 0.0, 0.0, 0.0, 0.0, ...   \n",
       "12     33  [0.0, 0.0, 0.0, 0.0, 0.0, 0.0, 0.0, 0.0, 0.0, ...   \n",
       "13   7533  [0.0, 0.0, 0.0, 0.0, 0.0, 0.0, 0.0, 0.0, 0.0, ...   \n",
       "14  15033  [0.0, 0.0, 0.0, 0.0, 0.0, 0.0, 0.0, 0.0, 0.0, ...   \n",
       "15  22533  [0.0, 0.0, 0.0, 0.0, 0.0, 0.0, 0.0, 0.0, 0.0, ...   \n",
       "16     12  [0.0, 0.0, 0.0, 0.0, 0.0, 0.0, 0.0, 0.0, 0.0, ...   \n",
       "17   2511  [0.0, 0.0, 0.0, 0.0, 0.0, 0.0, 0.0, 0.00059437...   \n",
       "18   5013  [0.0, 0.0, 0.0, 0.0, 0.0, 0.0, 0.0, 0.0, 0.0, ...   \n",
       "19   7512  [0.0, 0.0, 0.0, 0.0, 0.0, 0.0, 0.0, 0.0, 0.0, ...   \n",
       "20     33  [0.0, 0.0, 0.0, 0.0, 0.0, 0.0, 0.0, 0.0, 0.0, ...   \n",
       "21   7533  [0.0, 0.0, 0.0, 0.0, 0.0, 0.0, 0.0, 0.0, 0.0, ...   \n",
       "22  15033  [0.0, 0.0, 0.0, 0.0, 0.0, 0.0, 0.0, 0.0, 0.0, ...   \n",
       "23  22533  [0.0, 0.0, 0.0, 0.0, 0.0, 0.0, 0.0, 0.0, 0.0, ...   \n",
       "\n",
       "               tiempo_total  \n",
       "0                     [0.0]  \n",
       "1     [0.04587388038635254]  \n",
       "2     [0.21982979774475098]  \n",
       "3     [0.20744776725769043]  \n",
       "4   [0.0010333061218261719]  \n",
       "5     [0.19946527481079102]  \n",
       "6      [0.7699837684631348]  \n",
       "7      [2.4768500328063965]  \n",
       "8                     [0.0]  \n",
       "9    [0.049010515213012695]  \n",
       "10    [0.08876991271972656]  \n",
       "11     [0.4837524890899658]  \n",
       "12                    [0.0]  \n",
       "13    [0.16161775588989258]  \n",
       "14     [1.6300244331359863]  \n",
       "15     [0.6856200695037842]  \n",
       "16                    [0.0]  \n",
       "17   [0.041051626205444336]  \n",
       "18    [0.12006235122680664]  \n",
       "19     [0.4894592761993408]  \n",
       "20  [0.0009653568267822266]  \n",
       "21      [0.163726806640625]  \n",
       "22     [0.9531631469726562]  \n",
       "23     [1.9888832569122314]  "
      ]
     },
     "execution_count": 16,
     "metadata": {},
     "output_type": "execute_result"
    }
   ],
   "source": [
    "df"
   ]
  },
  {
   "cell_type": "code",
   "execution_count": null,
   "metadata": {},
   "outputs": [],
   "source": []
  }
 ],
 "metadata": {
  "kernelspec": {
   "display_name": "Python 3",
   "language": "python",
   "name": "python3"
  },
  "language_info": {
   "codemirror_mode": {
    "name": "ipython",
    "version": 3
   },
   "file_extension": ".py",
   "mimetype": "text/x-python",
   "name": "python",
   "nbconvert_exporter": "python",
   "pygments_lexer": "ipython3",
   "version": "3.8.3"
  },
  "toc": {
   "base_numbering": 1,
   "nav_menu": {},
   "number_sections": false,
   "sideBar": true,
   "skip_h1_title": false,
   "title_cell": "Table of Contents",
   "title_sidebar": "Contents",
   "toc_cell": false,
   "toc_position": {},
   "toc_section_display": true,
   "toc_window_display": false
  }
 },
 "nbformat": 4,
 "nbformat_minor": 4
}
