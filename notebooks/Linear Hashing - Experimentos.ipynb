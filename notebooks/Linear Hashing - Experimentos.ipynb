{
 "cells": [
  {
   "cell_type": "code",
   "execution_count": 1,
   "metadata": {
    "ExecuteTime": {
     "end_time": "2020-07-19T00:03:10.873299Z",
     "start_time": "2020-07-19T00:03:10.315971Z"
    }
   },
   "outputs": [],
   "source": [
    "import sys; sys.path.append('../'); sys.path.append('../hashing')\n",
    "from hashing import LinearHash\n",
    "\n",
    "from pathlib import Path\n",
    "import numpy as np\n",
    "import pandas as pd\n",
    "\n",
    "from tqdm.notebook import tqdm\n",
    "\n",
    "DATA_DIR = 'casos_lhash'\n",
    "\n",
    "np.random.seed(88)"
   ]
  },
  {
   "cell_type": "code",
   "execution_count": 2,
   "metadata": {
    "ExecuteTime": {
     "end_time": "2020-07-19T00:03:10.884461Z",
     "start_time": "2020-07-19T00:03:10.875449Z"
    }
   },
   "outputs": [
    {
     "data": {
      "text/plain": [
       "[PosixPath('casos_lhash/ordered_blocks_creciente.npy'),\n",
       " PosixPath('casos_lhash/ordered_blocks_intercalado.npy'),\n",
       " PosixPath('casos_lhash/ordered_blocks_intercalado_rand.npy'),\n",
       " PosixPath('casos_lhash/ordered_step_1.npy'),\n",
       " PosixPath('casos_lhash/ordered_step_1_oversize.npy'),\n",
       " PosixPath('casos_lhash/ordered_step_3.npy'),\n",
       " PosixPath('casos_lhash/ordered_step_3_oversize.npy'),\n",
       " PosixPath('casos_lhash/ordered_step_quarter.npy'),\n",
       " PosixPath('casos_lhash/ordered_step_quarter_oversize.npy'),\n",
       " PosixPath('casos_lhash/ordered_step_random.npy'),\n",
       " PosixPath('casos_lhash/ordered_step_random_oversize.npy'),\n",
       " PosixPath('casos_lhash/repeated_3_1.npy'),\n",
       " PosixPath('casos_lhash/repeated_3_1_oversize.npy'),\n",
       " PosixPath('casos_lhash/repeated_3_3.npy'),\n",
       " PosixPath('casos_lhash/repeated_3_3_oversize.npy'),\n",
       " PosixPath('casos_lhash/repeated_3_quarter.npy'),\n",
       " PosixPath('casos_lhash/repeated_3_quarter_oversize.npy'),\n",
       " PosixPath('casos_lhash/repeated_quarter_1.npy'),\n",
       " PosixPath('casos_lhash/repeated_quarter_1_oversize.npy'),\n",
       " PosixPath('casos_lhash/repeated_quarter_random.npy'),\n",
       " PosixPath('casos_lhash/repeated_quarter_random_oversize.npy')]"
      ]
     },
     "execution_count": 2,
     "metadata": {},
     "output_type": "execute_result"
    }
   ],
   "source": [
    "sorted(Path(DATA_DIR).iterdir())"
   ]
  },
  {
   "cell_type": "markdown",
   "metadata": {},
   "source": [
    "# Experimentos mejores y peores casos LinearHash\n",
    "\n",
    "Sea $th$, el tamaño de tabla hash en cada instancia."
   ]
  },
  {
   "cell_type": "code",
   "execution_count": 3,
   "metadata": {
    "ExecuteTime": {
     "end_time": "2020-07-19T00:03:11.922313Z",
     "start_time": "2020-07-19T00:03:11.912664Z"
    }
   },
   "outputs": [],
   "source": [
    "size_max = int(1e4)\n",
    "sizes = [i for i in range(10, size_max, size_max//4)]\n",
    "\n",
    "l_hashes = [LinearHash(size=s, update_size=True) for s in sizes]\n",
    "\n",
    "df = pd.DataFrame(columns=['hash', 'original_size', 'final_size', 'caso',\n",
    "                           'subcaso', 'caracteristica', 'oversize', 'comparaciones', 'tamano', 'tiempos', 'tiempo_total'])"
   ]
  },
  {
   "cell_type": "markdown",
   "metadata": {
    "ExecuteTime": {
     "end_time": "2020-07-13T17:17:35.627426Z",
     "start_time": "2020-07-13T17:17:35.624205Z"
    }
   },
   "source": [
    "## Secuencia de elementos ordenados\n",
    "\n",
    "Se crean las siguientes variaciones de secuencias:\n",
    "\n",
    "1. Secuencia ordenada creciente con paso de 1\n",
    "2. Secuencia ordenada creciente con paso de 3\n",
    "3. Secuencia ordenada creciente con paso de $\\frac{th}{4}$\n",
    "4. Secuencia ordenada creciente con paso de aleatorio entre 4 y $th$\n",
    "\n",
    "5. Un cuarto creciente, otro decreciente y bis (bloques aleatorios)\n",
    "6. 4 bloques crecientes independientes\n",
    "\n",
    "Ademas para cada una de estas, existen dos tamaño: el tamaño de la tabla y 3 veces el tamaño de la tabla."
   ]
  },
  {
   "cell_type": "code",
   "execution_count": 4,
   "metadata": {
    "ExecuteTime": {
     "end_time": "2020-07-19T00:03:12.649898Z",
     "start_time": "2020-07-19T00:03:12.582780Z"
    }
   },
   "outputs": [
    {
     "data": {
      "text/plain": [
       "([PosixPath('casos_lhash/ordered_step_quarter_oversize.npy'),\n",
       "  PosixPath('casos_lhash/ordered_step_3_oversize.npy'),\n",
       "  PosixPath('casos_lhash/ordered_step_3.npy'),\n",
       "  PosixPath('casos_lhash/ordered_step_1.npy'),\n",
       "  PosixPath('casos_lhash/ordered_step_quarter.npy'),\n",
       "  PosixPath('casos_lhash/ordered_step_1_oversize.npy'),\n",
       "  PosixPath('casos_lhash/ordered_step_random.npy'),\n",
       "  PosixPath('casos_lhash/ordered_step_random_oversize.npy')],\n",
       " [PosixPath('casos_lhash/ordered_blocks_intercalado.npy'),\n",
       "  PosixPath('casos_lhash/ordered_blocks_creciente.npy'),\n",
       "  PosixPath('casos_lhash/ordered_blocks_intercalado_rand.npy')])"
      ]
     },
     "execution_count": 4,
     "metadata": {},
     "output_type": "execute_result"
    }
   ],
   "source": [
    "casos_ordenados_steps = list(Path(DATA_DIR).glob('ordered_step*'))\n",
    "casos_ordenados_blocks = list(Path(DATA_DIR).glob('ordered_blocks*'))\n",
    "\n",
    "arr_casos_ordenados_steps = [\n",
    "    {caso.stem: np.load(caso, allow_pickle=True)} for caso in casos_ordenados_steps]\n",
    "\n",
    "arr_casos_ordenados_blocks = [\n",
    "    {caso.stem: np.load(caso, allow_pickle=True)} for caso in casos_ordenados_blocks]\n",
    "\n",
    "casos_ordenados_steps, casos_ordenados_blocks"
   ]
  },
  {
   "cell_type": "markdown",
   "metadata": {},
   "source": [
    "### Steps"
   ]
  },
  {
   "cell_type": "code",
   "execution_count": null,
   "metadata": {
    "ExecuteTime": {
     "start_time": "2020-07-19T00:03:13.544Z"
    },
    "scrolled": false
   },
   "outputs": [
    {
     "data": {
      "application/vnd.jupyter.widget-view+json": {
       "model_id": "38e123af2aaf4a19bb7b65c9c66ba9f1",
       "version_major": 2,
       "version_minor": 0
      },
      "text/plain": [
       "HBox(children=(FloatProgress(value=0.0, max=8.0), HTML(value='')))"
      ]
     },
     "metadata": {},
     "output_type": "display_data"
    },
    {
     "data": {
      "application/vnd.jupyter.widget-view+json": {
       "model_id": "54d1de7a36714dec890d16342a4e4f7e",
       "version_major": 2,
       "version_minor": 0
      },
      "text/plain": [
       "HBox(children=(FloatProgress(value=1.0, bar_style='info', max=1.0), HTML(value='')))"
      ]
     },
     "metadata": {},
     "output_type": "display_data"
    },
    {
     "data": {
      "application/vnd.jupyter.widget-view+json": {
       "model_id": "d49f50e8f01d4b0387798ebc39951d3f",
       "version_major": 2,
       "version_minor": 0
      },
      "text/plain": [
       "HBox(children=(FloatProgress(value=0.0, max=4.0), HTML(value='')))"
      ]
     },
     "metadata": {},
     "output_type": "display_data"
    },
    {
     "name": "stdout",
     "output_type": "stream",
     "text": [
      "\n"
     ]
    },
    {
     "data": {
      "application/vnd.jupyter.widget-view+json": {
       "model_id": "7a3375d21dd1466bb8848bd64495b452",
       "version_major": 2,
       "version_minor": 0
      },
      "text/plain": [
       "HBox(children=(FloatProgress(value=0.0, max=4.0), HTML(value='')))"
      ]
     },
     "metadata": {},
     "output_type": "display_data"
    },
    {
     "name": "stdout",
     "output_type": "stream",
     "text": [
      "\n"
     ]
    },
    {
     "data": {
      "application/vnd.jupyter.widget-view+json": {
       "model_id": "4151618a78304f7e8175abcb573866bb",
       "version_major": 2,
       "version_minor": 0
      },
      "text/plain": [
       "HBox(children=(FloatProgress(value=0.0, max=4.0), HTML(value='')))"
      ]
     },
     "metadata": {},
     "output_type": "display_data"
    },
    {
     "name": "stdout",
     "output_type": "stream",
     "text": [
      "\n"
     ]
    },
    {
     "data": {
      "application/vnd.jupyter.widget-view+json": {
       "model_id": "030fb8fa0ede404ca7aac312470bc031",
       "version_major": 2,
       "version_minor": 0
      },
      "text/plain": [
       "HBox(children=(FloatProgress(value=0.0, max=4.0), HTML(value='')))"
      ]
     },
     "metadata": {},
     "output_type": "display_data"
    },
    {
     "name": "stdout",
     "output_type": "stream",
     "text": [
      "\n",
      "\n"
     ]
    },
    {
     "data": {
      "application/vnd.jupyter.widget-view+json": {
       "model_id": "a740a73fab824d2da66a070fdfe8430a",
       "version_major": 2,
       "version_minor": 0
      },
      "text/plain": [
       "HBox(children=(FloatProgress(value=1.0, bar_style='info', max=1.0), HTML(value='')))"
      ]
     },
     "metadata": {},
     "output_type": "display_data"
    },
    {
     "data": {
      "application/vnd.jupyter.widget-view+json": {
       "model_id": "c13be3a96619471794c89110ebdaa782",
       "version_major": 2,
       "version_minor": 0
      },
      "text/plain": [
       "HBox(children=(FloatProgress(value=0.0, max=4.0), HTML(value='')))"
      ]
     },
     "metadata": {},
     "output_type": "display_data"
    },
    {
     "name": "stdout",
     "output_type": "stream",
     "text": [
      "\n"
     ]
    },
    {
     "data": {
      "application/vnd.jupyter.widget-view+json": {
       "model_id": "9762c13e7c0f4738ae4412bd53920e8b",
       "version_major": 2,
       "version_minor": 0
      },
      "text/plain": [
       "HBox(children=(FloatProgress(value=0.0, max=4.0), HTML(value='')))"
      ]
     },
     "metadata": {},
     "output_type": "display_data"
    },
    {
     "name": "stdout",
     "output_type": "stream",
     "text": [
      "\n"
     ]
    },
    {
     "data": {
      "application/vnd.jupyter.widget-view+json": {
       "model_id": "25e596592bea4c808060077fe4d57e5d",
       "version_major": 2,
       "version_minor": 0
      },
      "text/plain": [
       "HBox(children=(FloatProgress(value=0.0, max=4.0), HTML(value='')))"
      ]
     },
     "metadata": {},
     "output_type": "display_data"
    },
    {
     "name": "stdout",
     "output_type": "stream",
     "text": [
      "\n"
     ]
    },
    {
     "data": {
      "application/vnd.jupyter.widget-view+json": {
       "model_id": "b47579928d7f420db12edf23ee083127",
       "version_major": 2,
       "version_minor": 0
      },
      "text/plain": [
       "HBox(children=(FloatProgress(value=0.0, max=4.0), HTML(value='')))"
      ]
     },
     "metadata": {},
     "output_type": "display_data"
    },
    {
     "name": "stdout",
     "output_type": "stream",
     "text": [
      "\n",
      "\n"
     ]
    },
    {
     "data": {
      "application/vnd.jupyter.widget-view+json": {
       "model_id": "862271d55d33440e8098bb6d7bf1fecf",
       "version_major": 2,
       "version_minor": 0
      },
      "text/plain": [
       "HBox(children=(FloatProgress(value=1.0, bar_style='info', max=1.0), HTML(value='')))"
      ]
     },
     "metadata": {},
     "output_type": "display_data"
    },
    {
     "data": {
      "application/vnd.jupyter.widget-view+json": {
       "model_id": "6b5a25910278492fa44a20e6266ca77c",
       "version_major": 2,
       "version_minor": 0
      },
      "text/plain": [
       "HBox(children=(FloatProgress(value=0.0, max=4.0), HTML(value='')))"
      ]
     },
     "metadata": {},
     "output_type": "display_data"
    },
    {
     "name": "stdout",
     "output_type": "stream",
     "text": [
      "\n"
     ]
    },
    {
     "data": {
      "application/vnd.jupyter.widget-view+json": {
       "model_id": "7bef1556c25a4f41abb5f4a7080ec68b",
       "version_major": 2,
       "version_minor": 0
      },
      "text/plain": [
       "HBox(children=(FloatProgress(value=0.0, max=4.0), HTML(value='')))"
      ]
     },
     "metadata": {},
     "output_type": "display_data"
    },
    {
     "name": "stdout",
     "output_type": "stream",
     "text": [
      "\n"
     ]
    },
    {
     "data": {
      "application/vnd.jupyter.widget-view+json": {
       "model_id": "ecd8496ab8884ef28cf17b4ed1ed163d",
       "version_major": 2,
       "version_minor": 0
      },
      "text/plain": [
       "HBox(children=(FloatProgress(value=0.0, max=4.0), HTML(value='')))"
      ]
     },
     "metadata": {},
     "output_type": "display_data"
    },
    {
     "name": "stdout",
     "output_type": "stream",
     "text": [
      "\n"
     ]
    },
    {
     "data": {
      "application/vnd.jupyter.widget-view+json": {
       "model_id": "9cb6f9957fd4427dbf6d94b834add7f9",
       "version_major": 2,
       "version_minor": 0
      },
      "text/plain": [
       "HBox(children=(FloatProgress(value=0.0, max=4.0), HTML(value='')))"
      ]
     },
     "metadata": {},
     "output_type": "display_data"
    },
    {
     "name": "stdout",
     "output_type": "stream",
     "text": [
      "\n",
      "\n"
     ]
    },
    {
     "data": {
      "application/vnd.jupyter.widget-view+json": {
       "model_id": "0a447623bf6d4301a797865817654859",
       "version_major": 2,
       "version_minor": 0
      },
      "text/plain": [
       "HBox(children=(FloatProgress(value=1.0, bar_style='info', max=1.0), HTML(value='')))"
      ]
     },
     "metadata": {},
     "output_type": "display_data"
    },
    {
     "data": {
      "application/vnd.jupyter.widget-view+json": {
       "model_id": "42209a4b54014b768fac05de67ac16f0",
       "version_major": 2,
       "version_minor": 0
      },
      "text/plain": [
       "HBox(children=(FloatProgress(value=0.0, max=4.0), HTML(value='')))"
      ]
     },
     "metadata": {},
     "output_type": "display_data"
    },
    {
     "name": "stdout",
     "output_type": "stream",
     "text": [
      "\n"
     ]
    },
    {
     "data": {
      "application/vnd.jupyter.widget-view+json": {
       "model_id": "26a84e2f35a84c18bcffb350f07c2ec2",
       "version_major": 2,
       "version_minor": 0
      },
      "text/plain": [
       "HBox(children=(FloatProgress(value=0.0, max=4.0), HTML(value='')))"
      ]
     },
     "metadata": {},
     "output_type": "display_data"
    },
    {
     "name": "stdout",
     "output_type": "stream",
     "text": [
      "\n"
     ]
    },
    {
     "data": {
      "application/vnd.jupyter.widget-view+json": {
       "model_id": "45d7013ed6b74203b4746c5d3fb05dbd",
       "version_major": 2,
       "version_minor": 0
      },
      "text/plain": [
       "HBox(children=(FloatProgress(value=0.0, max=4.0), HTML(value='')))"
      ]
     },
     "metadata": {},
     "output_type": "display_data"
    },
    {
     "name": "stdout",
     "output_type": "stream",
     "text": [
      "\n"
     ]
    },
    {
     "data": {
      "application/vnd.jupyter.widget-view+json": {
       "model_id": "badec9da2a5b48d6ab85772ca66aa46b",
       "version_major": 2,
       "version_minor": 0
      },
      "text/plain": [
       "HBox(children=(FloatProgress(value=0.0, max=4.0), HTML(value='')))"
      ]
     },
     "metadata": {},
     "output_type": "display_data"
    }
   ],
   "source": [
    "for caso in tqdm(arr_casos_ordenados_steps):\n",
    "    tipo_caso, arrs = list(caso.items())[0]\n",
    "    rows = []\n",
    "    \n",
    "    tipo_caso = tipo_caso.split('_')\n",
    "    \n",
    "    type_name = 'ordered'\n",
    "    \n",
    "    subtype = tipo_caso[1]\n",
    "    caracteristica = tipo_caso[2]\n",
    "    if tipo_caso[-1] == 'oversize':\n",
    "        oversize = 1\n",
    "    else:\n",
    "        oversize = 0\n",
    "    \n",
    "    for idx, arr in tqdm(enumerate(arrs)):\n",
    "        l_hashes = [LinearHash(size=s, update_size=True) for s in sizes]\n",
    "        for lh in tqdm(l_hashes):\n",
    "            lh.run_experiment(arr)\n",
    "            total_times, individual_times, original_size, final_size, comp = lh.get_results()\n",
    "\n",
    "            row = {\n",
    "                'hash': 'lineal', \n",
    "                'original_size': original_size,\n",
    "                'final_size' : final_size,\n",
    "                'caso': type_name, \n",
    "                'subcaso' : subtype, \n",
    "                'caracteristica' : caracteristica, \n",
    "                'oversize' : oversize,\n",
    "                'comparaciones':comp,\n",
    "                'tamano': len(arr), \n",
    "                'tiempos': individual_times, \n",
    "                'tiempo_total': total_times\n",
    "            }\n",
    "            \n",
    "        rows.append(row)\n",
    "    df = df.append(pd.DataFrame(rows), ignore_index=True)"
   ]
  },
  {
   "cell_type": "code",
   "execution_count": null,
   "metadata": {
    "ExecuteTime": {
     "end_time": "2020-07-17T17:13:08.051542Z",
     "start_time": "2020-07-17T17:13:08.038209Z"
    }
   },
   "outputs": [],
   "source": [
    "pd.read_csv('results_linear_ordered.csv')['comparaciones'].unique()"
   ]
  },
  {
   "cell_type": "code",
   "execution_count": null,
   "metadata": {
    "ExecuteTime": {
     "end_time": "2020-07-17T17:13:08.099206Z",
     "start_time": "2020-07-17T17:13:08.055992Z"
    }
   },
   "outputs": [],
   "source": [
    "df.to_csv('results_linear_ordered.csv', index=False)"
   ]
  },
  {
   "cell_type": "code",
   "execution_count": null,
   "metadata": {
    "ExecuteTime": {
     "end_time": "2020-07-15T01:51:23.175469Z",
     "start_time": "2020-07-15T01:51:23.157594Z"
    }
   },
   "outputs": [],
   "source": [
    "df = pd.read_csv('results_linear_ordered.csv')"
   ]
  },
  {
   "cell_type": "markdown",
   "metadata": {},
   "source": [
    "### Blocks"
   ]
  },
  {
   "cell_type": "code",
   "execution_count": null,
   "metadata": {
    "ExecuteTime": {
     "end_time": "2020-07-15T02:31:34.599158Z",
     "start_time": "2020-07-15T01:56:00.881830Z"
    }
   },
   "outputs": [],
   "source": [
    "for caso in tqdm(arr_casos_ordenados_blocks):\n",
    "    tipo_caso, arrs = list(caso.items())[0]\n",
    "    rows = []\n",
    "    \n",
    "    tipo_caso = tipo_caso.split('_')\n",
    "    \n",
    "    type_name = 'ordered'\n",
    "    \n",
    "    subtype = tipo_caso[1]\n",
    "    caracteristica = tipo_caso[2\n",
    "                              ]\n",
    "    if tipo_caso[-1] == 'oversize':\n",
    "        oversize = 1\n",
    "    else:\n",
    "        oversize = 0\n",
    "    \n",
    "    for arr in tqdm(arrs[2:]):\n",
    "        l_hashes = [LinearHash(size=s, update_size=True) for s in sizes]\n",
    "        for lh in tqdm(l_hashes):\n",
    "            lh.run_experiment(arr)\n",
    "            total_times, individual_times, original_size, final_size, comp = lh.get_results()\n",
    "\n",
    "            row = {\n",
    "                'hash': 'lineal', \n",
    "                'original_size': original_size,\n",
    "                'final_size' : final_size,\n",
    "                'caso': type_name, \n",
    "                'subcaso' : subtype, \n",
    "                'caracteristica' : caracteristica, \n",
    "                'oversize' : oversize,\n",
    "                'comparaciones':comp,\n",
    "                'tamano': len(arr), \n",
    "                'tiempos': individual_times, \n",
    "                'tiempo_total': total_times\n",
    "            }\n",
    "            \n",
    "        rows.append(row)\n",
    "    df = df.append(pd.DataFrame(rows), ignore_index=True)"
   ]
  },
  {
   "cell_type": "code",
   "execution_count": null,
   "metadata": {
    "ExecuteTime": {
     "end_time": "2020-07-15T02:39:06.681336Z",
     "start_time": "2020-07-15T02:39:06.583727Z"
    }
   },
   "outputs": [],
   "source": [
    "df.to_csv('results_linear_ordered.csv', index=False)"
   ]
  },
  {
   "cell_type": "markdown",
   "metadata": {},
   "source": [
    "## Secuencia de elementos repetidos\n",
    "\n",
    "Se crean las siguientes variaciones de secuencias:\n",
    "\n",
    "1. Secuencia de 3 elementos repetidos con step de 1\n",
    "2. Secuencia de 3 elementos repetidos con step de 3\n",
    "3. Secuencia de 3 elementos repetidos con step de $\\frac{th}{4}$\n",
    "4. Secuencia de $\\frac{th}{4}$ elementos repetidos con step aleatorio entre 4 y $th$\n",
    "\n",
    "Ademas para cada una de estas, existen dos tamaño: el tamaño de la tabla y 3 veces el tamaño de la tabla."
   ]
  },
  {
   "cell_type": "code",
   "execution_count": null,
   "metadata": {
    "ExecuteTime": {
     "end_time": "2020-07-15T01:22:55.835231Z",
     "start_time": "2020-07-15T01:22:55.805714Z"
    }
   },
   "outputs": [],
   "source": [
    "df = pd.DataFrame(columns=['hash', 'original_size', 'final_size', 'caso',\n",
    "                           'repeticiones', 'step_size', 'oversize', 'comparaciones', 'tamano', 'tiempos', 'tiempo_total'])\n",
    "\n",
    "casos_repetidos_3 = list(Path(DATA_DIR).glob('repeated_3*'))\n",
    "casos_repetidos_quarter = list(Path(DATA_DIR).glob('repeated_quarter*'))\n",
    "\n",
    "arr_casos_repetidos_3 = [{caso.stem: np.load(caso, allow_pickle=True)} for caso in casos_repetidos_3]\n",
    "arr_casos_repetidos_quarter = [{caso.stem: np.load(caso, allow_pickle=True)} for caso in casos_repetidos_quarter]\n",
    "\n",
    "casos_repetidos_3, casos_repetidos_quarter"
   ]
  },
  {
   "cell_type": "code",
   "execution_count": null,
   "metadata": {
    "ExecuteTime": {
     "end_time": "2020-07-15T01:48:11.610538Z",
     "start_time": "2020-07-15T01:22:59.340860Z"
    }
   },
   "outputs": [],
   "source": [
    "for caso in tqdm(arr_casos_repetidos_3):\n",
    "    tipo_caso, arrs = list(caso.items())[0]\n",
    "    rows = []\n",
    "    \n",
    "    tipo_caso = tipo_caso.split('_')\n",
    "    \n",
    "    type_name = 'repeated'\n",
    "    \n",
    "    num_repeats = tipo_caso[1]\n",
    "    step_size = tipo_caso[2]\n",
    "    \n",
    "    if tipo_caso[-1] == 'oversize':\n",
    "        oversize = 1\n",
    "    else:\n",
    "        oversize = 0\n",
    "    \n",
    "    for arr in tqdm(arrs):\n",
    "        l_hashes = [LinearHash(size=s, update_size=True) for s in sizes]\n",
    "        for lh in tqdm(l_hashes):\n",
    "            lh.run_experiment(arr)\n",
    "            total_times, individual_times, original_size, final_size, comp = lh.get_results()\n",
    "\n",
    "            row = {\n",
    "                'hash': 'lineal', \n",
    "                'original_size': original_size,\n",
    "                'final_size' : final_size,\n",
    "                'caso': type_name, \n",
    "                'repeticiones' : num_repeats, \n",
    "                'step_size' : step_size, \n",
    "                'oversize' : oversize,\n",
    "                'comparaciones':comp,\n",
    "                'tamano': len(arr), \n",
    "                'tiempos': individual_times, \n",
    "                'tiempo_total': total_times\n",
    "            }\n",
    "            \n",
    "        rows.append(row)\n",
    "    df = df.append(pd.DataFrame(rows), ignore_index=True)"
   ]
  },
  {
   "cell_type": "code",
   "execution_count": null,
   "metadata": {
    "ExecuteTime": {
     "end_time": "2020-07-15T01:49:54.150434Z",
     "start_time": "2020-07-15T01:49:53.916985Z"
    }
   },
   "outputs": [],
   "source": [
    "df.to_csv('results_linear_repeated.csv', index=False)"
   ]
  },
  {
   "cell_type": "code",
   "execution_count": null,
   "metadata": {
    "ExecuteTime": {
     "start_time": "2020-07-15T01:00:29.919Z"
    }
   },
   "outputs": [],
   "source": [
    "# for caso in tqdm(arr_casos_repetidos_quarter):\n",
    "#     tipo_caso, arrs = list(caso.items())[0]\n",
    "#     rows = []\n",
    "    \n",
    "#     tipo_caso = tipo_caso.split('_')\n",
    "    \n",
    "#     type_name = 'repeated'\n",
    "    \n",
    "#     num_repeats = tipo_caso[1]\n",
    "#     step_size = tipo_caso[2]\n",
    "    \n",
    "#     if tipo_caso[-1] == 'oversize':\n",
    "#         oversize = 1\n",
    "#     else:\n",
    "#         oversize = 0\n",
    "    \n",
    "#     for arr in tqdm(arrs):\n",
    "#         l_hashes = [LinearHash(size=s, update_size=True) for s in sizes]\n",
    "#         for lh in tqdm(l_hashes):\n",
    "#             lh.run_experiment(arr)\n",
    "#             total_times, individual_times, original_size, final_size = lh.get_results()\n",
    "\n",
    "#             row = {\n",
    "#                 'hash': 'lineal', \n",
    "#                 'original_size': original_size,\n",
    "#                 'final_size' : final_size,\n",
    "#                 'caso': type_name, \n",
    "#                 'repeticiones' : num_repeats, \n",
    "#                 'step_size' : step_size, \n",
    "#                 'oversize' : oversize,\n",
    "#                 'tamano': len(arr), \n",
    "#                 'tiempos': individual_times, \n",
    "#                 'tiempo_total': total_times\n",
    "#             }\n",
    "            \n",
    "#         rows.append(row)\n",
    "#     df = df.append(pd.DataFrame(rows), ignore_index=True)"
   ]
  },
  {
   "cell_type": "markdown",
   "metadata": {},
   "source": [
    "## Secuencia de elementos aleatorias\n",
    "\n",
    "Se crean las siguientes variaciones de secuencias:\n",
    "\n",
    "1. Secuencias aleatorias"
   ]
  },
  {
   "cell_type": "code",
   "execution_count": null,
   "metadata": {
    "ExecuteTime": {
     "end_time": "2020-07-14T21:54:49.827378Z",
     "start_time": "2020-07-14T21:54:49.822321Z"
    }
   },
   "outputs": [],
   "source": [
    "df = pd.DataFrame(columns=['hash', 'original_size', 'final_size', 'caso',\n",
    "                           'caracteristica', 'tamano', 'oversize', 'comparaciones', 'tiempos', \n",
    "                           'tiempo_total'])\n",
    "\n",
    "casos_rand = list(Path(DATA_DIR).glob('random*'))\n",
    "arr_casos_rand = [{caso.stem: np.load(caso, allow_pickle=True)} for caso in casos_rand]\n",
    "casos_rand"
   ]
  },
  {
   "cell_type": "code",
   "execution_count": null,
   "metadata": {
    "ExecuteTime": {
     "start_time": "2020-07-14T20:39:59.205Z"
    }
   },
   "outputs": [],
   "source": [
    "for caso in tqdm(arr_casos_rand):\n",
    "    tipo_caso, arrs = list(caso.items())[0]\n",
    "    rows = []\n",
    "    \n",
    "    tipo_caso = tipo_caso.split('_')\n",
    "    \n",
    "    type_name = 'random'\n",
    "    \n",
    "    caracteristica = tipo_caso[1]\n",
    "    \n",
    "    if tipo_caso[-1] == 'oversize':\n",
    "        oversize = 1\n",
    "    else:\n",
    "        oversize = 0\n",
    "        \n",
    "    for arr in tqdm(arrs):\n",
    "        l_hashes = [LinearHash(size=s, update_size=True) for s in sizes]\n",
    "        for dh in tqdm(l_hashes):\n",
    "            dh.run_experiment(arr)\n",
    "            total_times, individual_times, original_size, final_size, comp = dh.get_results()\n",
    "\n",
    "            row = {\n",
    "                'hash': 'lineal', \n",
    "                'original_size': original_size,\n",
    "                'final_size' : final_size,\n",
    "                'caso': tipo_caso, \n",
    "                'caracteristica': caracteristica,\n",
    "                'tamano': len(arr), \n",
    "                'oversize': oversize,\n",
    "                'comparaciones': comp, \n",
    "                'tiempos': individual_times, \n",
    "                'tiempo_total': total_times \n",
    "            }\n",
    "            \n",
    "        rows.append(row)\n",
    "    df = df.append(pd.DataFrame(rows), ignore_index=True)"
   ]
  },
  {
   "cell_type": "code",
   "execution_count": null,
   "metadata": {
    "ExecuteTime": {
     "start_time": "2020-07-14T20:39:59.207Z"
    }
   },
   "outputs": [],
   "source": [
    "df.to_csv('results_linear_random.csv', index=False)"
   ]
  },
  {
   "cell_type": "code",
   "execution_count": null,
   "metadata": {},
   "outputs": [],
   "source": []
  }
 ],
 "metadata": {
  "kernelspec": {
   "display_name": "Python 3",
   "language": "python",
   "name": "python3"
  },
  "language_info": {
   "codemirror_mode": {
    "name": "ipython",
    "version": 3
   },
   "file_extension": ".py",
   "mimetype": "text/x-python",
   "name": "python",
   "nbconvert_exporter": "python",
   "pygments_lexer": "ipython3",
   "version": "3.8.3"
  },
  "toc": {
   "base_numbering": 1,
   "nav_menu": {},
   "number_sections": false,
   "sideBar": true,
   "skip_h1_title": false,
   "title_cell": "Table of Contents",
   "title_sidebar": "Contents",
   "toc_cell": false,
   "toc_position": {},
   "toc_section_display": true,
   "toc_window_display": false
  }
 },
 "nbformat": 4,
 "nbformat_minor": 4
}
