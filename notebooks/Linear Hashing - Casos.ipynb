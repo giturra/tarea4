{
 "cells": [
  {
   "cell_type": "code",
   "execution_count": 2,
   "metadata": {
    "ExecuteTime": {
     "end_time": "2020-07-14T21:53:50.315986Z",
     "start_time": "2020-07-14T21:53:50.152138Z"
    }
   },
   "outputs": [],
   "source": [
    "import sys; sys.path.append('../'); sys.path.append('../hashing')\n",
    "from hashing import LinearHash\n",
    "\n",
    "import numpy as np\n",
    "\n",
    "np.random.seed(88)"
   ]
  },
  {
   "cell_type": "markdown",
   "metadata": {},
   "source": [
    "# Exploración mejores y peores casos LinearHash\n",
    "\n",
    "Sea $th$, el tamaño de tabla hash en cada instancia."
   ]
  },
  {
   "cell_type": "code",
   "execution_count": 3,
   "metadata": {
    "ExecuteTime": {
     "end_time": "2020-07-14T21:53:50.785111Z",
     "start_time": "2020-07-14T21:53:50.781613Z"
    }
   },
   "outputs": [
    {
     "name": "stdout",
     "output_type": "stream",
     "text": [
      "[10, 2510, 5010, 7510]\n"
     ]
    }
   ],
   "source": [
    "size_max = int(1e4)\n",
    "sizes = [i for i in range(10, size_max, size_max//4)]\n",
    "print(sizes)\n",
    "l_hashes = [LinearHash(size=s, update_size=True) for s in sizes]"
   ]
  },
  {
   "cell_type": "markdown",
   "metadata": {
    "ExecuteTime": {
     "end_time": "2020-07-13T17:17:35.627426Z",
     "start_time": "2020-07-13T17:17:35.624205Z"
    }
   },
   "source": [
    "## Secuencia de elementos ordenados\n",
    "\n",
    "Se crean las siguientes variaciones de secuencias:\n",
    "\n",
    "1. Secuencia ordenada creciente con paso de 1\n",
    "2. Secuencia ordenada creciente con paso de 3\n",
    "3. Secuencia ordenada creciente con paso de $\\frac{th}{4}$\n",
    "4. Secuencia ordenada creciente con paso de aleatorio entre 1 y $\\frac{th}{4}$\n",
    "\n",
    "5. Un cuarto creciente, otro decreciente y bis (bloques aleatorios)\n",
    "6. 4 bloques crecientes independientes\n",
    "\n",
    "Ademas para cada una de estas, existen dos tamaño: el tamaño de la tabla y 3 veces el tamaño de la tabla."
   ]
  },
  {
   "cell_type": "code",
   "execution_count": 3,
   "metadata": {
    "ExecuteTime": {
     "end_time": "2020-07-14T21:53:51.383847Z",
     "start_time": "2020-07-14T21:53:51.359823Z"
    }
   },
   "outputs": [],
   "source": [
    "# Ordered Sequence\n",
    "all_ordered = np.array([np.array(range(len(lh)), dtype=int)\n",
    "                        for lh in l_hashes])\n",
    "np.save('casos_lhash/ordered_step_1', all_ordered)\n",
    "\n",
    "all_ordered_oversize = np.asarray(\n",
    "    [np.array(range(len(lh) * 3)) for lh in l_hashes])\n",
    "np.save('casos_lhash/ordered_step_1_oversize', all_ordered_oversize)\n",
    "\n",
    "# Ordered Sequence with step=3\n",
    "ordered_step3 = np.asarray(\n",
    "    [np.array(range(0, len(lh), 3), dtype=int) for lh in l_hashes])\n",
    "np.save('casos_lhash/ordered_step_3', ordered_step3)\n",
    "\n",
    "ordered_step3_oversize = np.asarray(\n",
    "    [np.array(range(0, len(lh) * 3, 3), dtype=int) for lh in l_hashes])\n",
    "np.save('casos_lhash/ordered_step_3_oversize', ordered_step3_oversize)\n",
    "\n",
    "# Ordered Sequence with step=table_size/4 \n",
    "ordered_stepquarter = np.asarray(\n",
    "    [np.array(range(0, len(lh), len(lh)//4), dtype=int) for lh in l_hashes])\n",
    "np.save('casos_lhash/ordered_step_quarter', ordered_stepquarter)\n",
    "\n",
    "ordered_stepquarter_oversize = np.asarray(\n",
    "    [np.array(range(0, len(lh)*3, len(lh)//4), dtype=int) for lh in l_hashes])\n",
    "np.save('casos_lhash/ordered_step_quarter_oversize', ordered_stepquarter_oversize)\n",
    "\n",
    "\n",
    "# Ordered Sequence with random step\n",
    "ordered_steprandom = np.asarray(\n",
    "    [np.array(range(0, len(lh), np.random.randint(1, len(lh)//4)), dtype=int) for lh in l_hashes])\n",
    "np.save('casos_lhash/ordered_step_random', ordered_steprandom)\n",
    "\n",
    "\n",
    "ordered_steprandom_oversize = np.asarray(\n",
    "    [np.array(range(0, len(lh)*3, np.random.randint(1, len(lh)//4)), dtype=int) for lh in l_hashes])\n",
    "np.save('casos_lhash/ordered_step_random_oversize', ordered_steprandom_oversize)"
   ]
  },
  {
   "cell_type": "code",
   "execution_count": 4,
   "metadata": {
    "ExecuteTime": {
     "end_time": "2020-07-14T21:53:51.655057Z",
     "start_time": "2020-07-14T21:53:51.648021Z"
    }
   },
   "outputs": [],
   "source": [
    "def random_array(n, min_val, max_val, sort=False):\n",
    "    \"\"\"\n",
    "    Funcion para generar A y secuencias aleatorias.\n",
    "    :param n: numero de elementos que tendrá el arreglo\n",
    "    :param max_val: maximo valor aleatorio\n",
    "    :return: un arreglo de valores ordenados\n",
    "    \"\"\"\n",
    "    arr = []\n",
    "    counter = 0\n",
    "    pos_vals = list(range(min_val, max_val))\n",
    "    while len(arr) != n:\n",
    "        value = np.random.choice(pos_vals)\n",
    "        \n",
    "        arr.append(value)\n",
    "        \n",
    "        idx = pos_vals.index(value)\n",
    "        del pos_vals[idx]\n",
    "\n",
    "    if sort:\n",
    "        arr.sort()\n",
    "    return np.array(arr)\n",
    "\n",
    "def blocks_ordered(size, n_blocks, inc_dec=False, threshold=0.5):\n",
    "    blocks = []\n",
    "    \n",
    "    ind = False\n",
    "    for i in range(n_blocks):\n",
    "        arr = random_array(n=size, min_val=0, max_val=size, sort=True)\n",
    "        \n",
    "        if inc_dec == 'random' and np.random.random() > threshold:\n",
    "            arr = reversed(arr)\n",
    "        \n",
    "        elif inc_dec and ind:\n",
    "            arr = reversed(arr)\n",
    "            ind = not ind\n",
    "            \n",
    "        elif inc_dec and not ind:\n",
    "            ind = not ind \n",
    "            \n",
    "        blocks += arr\n",
    "    \n",
    "    return np.array(blocks)\n",
    "        "
   ]
  },
  {
   "cell_type": "code",
   "execution_count": 16,
   "metadata": {
    "ExecuteTime": {
     "end_time": "2020-07-14T23:48:51.850073Z",
     "start_time": "2020-07-14T23:48:46.584825Z"
    }
   },
   "outputs": [],
   "source": [
    "# Creciente, decreciente\n",
    "inc_dec = np.array([blocks_ordered(len(lh)//4, n_blocks=4, inc_dec=True) for lh in l_hashes])\n",
    "np.save('casos_lhash/ordered_blocks_intercalado', inc_dec)\n",
    "\n",
    "# Creciente, decreciente de manera aleatoria\n",
    "inc_dec_rand =  np.array([blocks_ordered(len(lh)//4, n_blocks=4, inc_dec='random') for lh in l_hashes])\n",
    "np.save('casos_lhash/ordered_blocks_intercalado_rand', inc_dec_rand)\n",
    "\n",
    "# Bloques crecientes independientes\n",
    "inc =  np.array([blocks_ordered(len(lh)//4, n_blocks=4) for lh in l_hashes])\n",
    "np.save('casos_lhash/ordered_blocks_creciente', inc)\n"
   ]
  },
  {
   "cell_type": "code",
   "execution_count": 15,
   "metadata": {
    "ExecuteTime": {
     "end_time": "2020-07-14T23:47:40.047115Z",
     "start_time": "2020-07-14T23:47:40.043234Z"
    }
   },
   "outputs": [
    {
     "data": {
      "text/plain": [
       "7508"
      ]
     },
     "execution_count": 15,
     "metadata": {},
     "output_type": "execute_result"
    }
   ],
   "source": [
    "len(inc_dec[-1])"
   ]
  },
  {
   "cell_type": "markdown",
   "metadata": {},
   "source": [
    "## Secuencia de elementos repetidos\n",
    "\n",
    "Se crean las siguientes variaciones de secuencias:\n",
    "\n",
    "1. Secuencia de 3 elementos repetidos con step de 1\n",
    "2. Secuencia de 3 elementos repetidos con step de 3\n",
    "3. Secuencia de 3 elementos repetidos con step de $\\frac{th}{4}$\n",
    "4. Secuencia de $\\frac{th}{4}$ elementos repetidos con step aleatorio entre 1 y $\\frac{th}{4}$\n",
    "\n",
    "Ademas para cada una de estas, existen dos tamaño: el tamaño de la tabla y 3 veces el tamaño de la tabla."
   ]
  },
  {
   "cell_type": "code",
   "execution_count": 6,
   "metadata": {
    "ExecuteTime": {
     "end_time": "2020-07-14T21:54:05.086886Z",
     "start_time": "2020-07-14T21:54:05.082299Z"
    }
   },
   "outputs": [],
   "source": [
    "def repetead_seq(size, step, num_repeats=3):\n",
    "    seqs = np.array([], 'object')\n",
    "    i = 0\n",
    "    while len(seqs) <= size:\n",
    "        val = 0\n",
    "        seq = np.array([], 'int')\n",
    "        \n",
    "        while len(seq) <= size:            \n",
    "            seq = np.append(seq, [val] * num_repeats) \n",
    "            val += step\n",
    "            \n",
    "        seqs = np.append(seqs, seq)\n",
    "        \n",
    "        i+=1\n",
    "    return seqs"
   ]
  },
  {
   "cell_type": "code",
   "execution_count": 19,
   "metadata": {
    "ExecuteTime": {
     "end_time": "2020-07-15T00:34:00.457277Z",
     "start_time": "2020-07-15T00:34:00.452801Z"
    }
   },
   "outputs": [
    {
     "data": {
      "text/plain": [
       "(7512,)"
      ]
     },
     "execution_count": 19,
     "metadata": {},
     "output_type": "execute_result"
    }
   ],
   "source": [
    "repeated_3_step_1[-1].shape"
   ]
  },
  {
   "cell_type": "code",
   "execution_count": 20,
   "metadata": {
    "ExecuteTime": {
     "end_time": "2020-07-15T00:36:50.807927Z",
     "start_time": "2020-07-15T00:36:50.192635Z"
    }
   },
   "outputs": [],
   "source": [
    "############ 3 repeats sequence step 1 ############\n",
    "\n",
    "repeated_3_step_1 = np.array([repetead_seq(len(lh), 1)\n",
    "                           for lh in l_hashes])\n",
    "np.save('casos_lhash/repeated_3_1', repeated_3_step_1)\n",
    "\n",
    "repeated_3_step_1_oversize = np.asarray(\n",
    "    [repetead_seq(len(lh) * 3, 1) for lh in l_hashes])\n",
    "np.save('casos_lhash/repeated_3_1_oversize', repeated_3_step_1_oversize)\n",
    "\n",
    "\n",
    "\n",
    "\n",
    "############ 3 repeats sequence step 1=3 ############\n",
    "\n",
    "repeated_3_step_3 = np.asarray(\n",
    "    [repetead_seq(len(lh), 3) for lh in l_hashes])\n",
    "np.save('casos_lhash/repeated_3_3', repeated_3_step_3)\n",
    "\n",
    "repeated_3_step_3_oversize = np.asarray(\n",
    "    [repetead_seq(len(lh) * 3, 3) for lh in l_hashes])\n",
    "np.save('casos_lhash/repeated_3_3_oversize', repeated_3_step_3_oversize)\n",
    "\n",
    "\n",
    "\n",
    "\n",
    "\n",
    "############ repeated Sequence with step_=table_size/4 ############\n",
    "\n",
    "repeated_3_step_quarter = np.asarray(\n",
    "    [repetead_seq(len(lh), len(lh)//4) for lh in l_hashes])\n",
    "np.save('casos_lhash/repeated_3_quarter', repeated_3_step_quarter)\n",
    "\n",
    "repeated_3_step_quarter_oversize = np.asarray(\n",
    "    [repetead_seq(len(lh) * 3, len(lh)//4) for lh in l_hashes])\n",
    "np.save('casos_lhash/repeated_3_quarter_oversize', repeated_3_step_quarter_oversize)\n",
    "\n",
    "\n",
    "\n",
    "\n",
    "\n",
    "############ repeated n/4 Sequence with step_=table_size/4 ############\n",
    "\n",
    "repeated_quarter_step_1 = np.asarray(\n",
    "    [repetead_seq(len(lh), 1, len(lh)//4) for lh in l_hashes])\n",
    "np.save('casos_lhash/repeated_quarter_1', repeated_quarter_step_1)\n",
    "\n",
    "\n",
    "repeated_quarter_step_1_oversize = np.asarray(\n",
    "    [repetead_seq(len(lh) * 3, 1, len(lh)//4) for lh in l_hashes])\n",
    "np.save('casos_lhash/repeated_quarter_1_oversize', repeated_quarter_step_1_oversize)\n",
    "\n",
    "\n",
    "\n",
    "\n",
    "\n",
    "############ repeated n/4 Sequence with random step_ ############\n",
    "\n",
    "repeated_quarter_step_random = np.asarray(\n",
    "    [repetead_seq(len(lh), np.random.randint(1, len(lh)//4), len(lh)//4) for lh in l_hashes])\n",
    "np.save('casos_lhash/repeated_quarter_random', repeated_quarter_step_random)\n",
    "\n",
    "\n",
    "repeated_quarter_step_random_oversize = np.asarray(\n",
    "    [repetead_seq(len(lh) * 3, np.random.randint(1, len(lh)//4), len(lh)//4) for lh in l_hashes])\n",
    "np.save('casos_lhash/repeated_quarter_random_oversize', repeated_quarter_step_random_oversize)"
   ]
  },
  {
   "cell_type": "markdown",
   "metadata": {},
   "source": [
    "## Secuencia de elementos aleatorias\n",
    "\n",
    "Se crean las siguientes variaciones de secuencias:\n",
    "\n",
    "1. Secuencias aleatorias"
   ]
  },
  {
   "cell_type": "code",
   "execution_count": null,
   "metadata": {
    "ExecuteTime": {
     "end_time": "2020-07-14T21:46:11.463308Z",
     "start_time": "2020-07-14T21:44:50.173533Z"
    }
   },
   "outputs": [],
   "source": [
    "random_seq_n = np.array([random_array(n=len(lh), min_val=0, max_val=len(lh) * 2) for lh in l_hashes])\n",
    "np.save('casos_lhash/random_seq_n', random_seq_n)\n",
    "\n",
    "random_seq_n_oversize = np.array([random_array(n=len(lh) * 3, min_val=0, max_val=len(lh) * 3) for lh in l_hashes])\n",
    "np.save('casos_lhash/random_seq_n_oversize', random_seq_n)"
   ]
  },
  {
   "cell_type": "code",
   "execution_count": null,
   "metadata": {},
   "outputs": [],
   "source": []
  }
 ],
 "metadata": {
  "kernelspec": {
   "display_name": "Python 3",
   "language": "python",
   "name": "python3"
  },
  "language_info": {
   "codemirror_mode": {
    "name": "ipython",
    "version": 3
   },
   "file_extension": ".py",
   "mimetype": "text/x-python",
   "name": "python",
   "nbconvert_exporter": "python",
   "pygments_lexer": "ipython3",
   "version": "3.7.6"
  },
  "toc": {
   "base_numbering": 1,
   "nav_menu": {},
   "number_sections": false,
   "sideBar": true,
   "skip_h1_title": false,
   "title_cell": "Table of Contents",
   "title_sidebar": "Contents",
   "toc_cell": false,
   "toc_position": {},
   "toc_section_display": true,
   "toc_window_display": false
  }
 },
 "nbformat": 4,
 "nbformat_minor": 4
}